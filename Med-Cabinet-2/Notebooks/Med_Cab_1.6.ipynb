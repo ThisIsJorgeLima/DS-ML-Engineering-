{
 "cells": [
  {
   "cell_type": "code",
   "execution_count": 16,
   "metadata": {},
   "outputs": [],
   "source": [
    "\"\"\" Import Statments:\n",
    "\"\"\"\n",
    "import pandas as pd"
   ]
  },
  {
   "cell_type": "code",
   "execution_count": 17,
   "metadata": {},
   "outputs": [
    {
     "data": {
      "text/plain": [
       "'/Users/jorge/Med-Cabinet-2/Data'"
      ]
     },
     "execution_count": 17,
     "metadata": {},
     "output_type": "execute_result"
    }
   ],
   "source": [
    "pwd"
   ]
  },
  {
   "cell_type": "code",
   "execution_count": 18,
   "metadata": {},
   "outputs": [
    {
     "name": "stdout",
     "output_type": "stream",
     "text": [
      "Med_Cab_1.4.ipynb  Med_Cab_1.6.ipynb  medcab.csv\n",
      "Med_Cab_1.5.ipynb  cannabis.csv       medcab1_2.csv\n"
     ]
    }
   ],
   "source": [
    "ls"
   ]
  },
  {
   "cell_type": "code",
   "execution_count": 39,
   "metadata": {},
   "outputs": [],
   "source": [
    "df_X = pd.read_csv('/Users/jorge/Med-Cabinet-2/Data/medcab1_2.csv')\n",
    "df_y = pd.read_csv('/Users/jorge/Med-Cabinet-2/Data/cannabis.csv')\n",
    "df_X = df_X.fillna('none')\n",
    "df_X = df_X.drop('Unnamed: 0', 1)"
   ]
  },
  {
   "cell_type": "code",
   "execution_count": 20,
   "metadata": {},
   "outputs": [],
   "source": [
    "df_y['ID'] = df_y['Strain'].index\n",
    "df_y['ID'] = df_y['ID'].astype(int)"
   ]
  },
  {
   "cell_type": "code",
   "execution_count": 21,
   "metadata": {},
   "outputs": [
    {
     "data": {
      "text/plain": [
       "((2350, 74), (2351, 7))"
      ]
     },
     "execution_count": 21,
     "metadata": {},
     "output_type": "execute_result"
    }
   ],
   "source": [
    "df_X.shape, df_y.shape"
   ]
  },
  {
   "cell_type": "code",
   "execution_count": 22,
   "metadata": {},
   "outputs": [
    {
     "data": {
      "text/html": [
       "<div>\n",
       "<style scoped>\n",
       "    .dataframe tbody tr th:only-of-type {\n",
       "        vertical-align: middle;\n",
       "    }\n",
       "\n",
       "    .dataframe tbody tr th {\n",
       "        vertical-align: top;\n",
       "    }\n",
       "\n",
       "    .dataframe thead th {\n",
       "        text-align: right;\n",
       "    }\n",
       "</style>\n",
       "<table border=\"1\" class=\"dataframe\">\n",
       "  <thead>\n",
       "    <tr style=\"text-align: right;\">\n",
       "      <th></th>\n",
       "      <th>Strain</th>\n",
       "      <th>Type</th>\n",
       "      <th>Rating</th>\n",
       "      <th>Effects</th>\n",
       "      <th>Flavor</th>\n",
       "      <th>Description</th>\n",
       "      <th>ID</th>\n",
       "    </tr>\n",
       "  </thead>\n",
       "  <tbody>\n",
       "    <tr>\n",
       "      <th>0</th>\n",
       "      <td>100-Og</td>\n",
       "      <td>hybrid</td>\n",
       "      <td>4.0</td>\n",
       "      <td>Creative,Energetic,Tingly,Euphoric,Relaxed</td>\n",
       "      <td>Earthy,Sweet,Citrus</td>\n",
       "      <td>$100 OG is a 50/50 hybrid strain that packs a ...</td>\n",
       "      <td>0</td>\n",
       "    </tr>\n",
       "    <tr>\n",
       "      <th>1</th>\n",
       "      <td>98-White-Widow</td>\n",
       "      <td>hybrid</td>\n",
       "      <td>4.7</td>\n",
       "      <td>Relaxed,Aroused,Creative,Happy,Energetic</td>\n",
       "      <td>Flowery,Violet,Diesel</td>\n",
       "      <td>The ‘98 Aloha White Widow is an especially pot...</td>\n",
       "      <td>1</td>\n",
       "    </tr>\n",
       "  </tbody>\n",
       "</table>\n",
       "</div>"
      ],
      "text/plain": [
       "           Strain    Type  Rating                                     Effects  \\\n",
       "0          100-Og  hybrid     4.0  Creative,Energetic,Tingly,Euphoric,Relaxed   \n",
       "1  98-White-Widow  hybrid     4.7    Relaxed,Aroused,Creative,Happy,Energetic   \n",
       "\n",
       "                  Flavor                                        Description  \\\n",
       "0    Earthy,Sweet,Citrus  $100 OG is a 50/50 hybrid strain that packs a ...   \n",
       "1  Flowery,Violet,Diesel  The ‘98 Aloha White Widow is an especially pot...   \n",
       "\n",
       "   ID  \n",
       "0   0  \n",
       "1   1  "
      ]
     },
     "execution_count": 22,
     "metadata": {},
     "output_type": "execute_result"
    }
   ],
   "source": [
    "df_y.head(2)"
   ]
  },
  {
   "cell_type": "code",
   "execution_count": 23,
   "metadata": {},
   "outputs": [],
   "source": [
    "df_y = df_y.drop(columns =['Strain',\n",
    "                           'Type',\n",
    "                           'Rating',\n",
    "                           'Effects',\n",
    "                           'Flavor',\n",
    "                           'Description'])"
   ]
  },
  {
   "cell_type": "code",
   "execution_count": 24,
   "metadata": {},
   "outputs": [
    {
     "data": {
      "text/plain": [
       "(2351, 1)"
      ]
     },
     "execution_count": 24,
     "metadata": {},
     "output_type": "execute_result"
    }
   ],
   "source": [
    "df_y.shape"
   ]
  },
  {
   "cell_type": "code",
   "execution_count": 25,
   "metadata": {},
   "outputs": [],
   "source": [
    "arr_y = df_y.to_numpy()"
   ]
  },
  {
   "cell_type": "code",
   "execution_count": 26,
   "metadata": {},
   "outputs": [],
   "source": [
    "arr_y = arr_y.astype(int)"
   ]
  },
  {
   "cell_type": "code",
   "execution_count": 27,
   "metadata": {},
   "outputs": [
    {
     "data": {
      "text/plain": [
       "(2351, 1)"
      ]
     },
     "execution_count": 27,
     "metadata": {},
     "output_type": "execute_result"
    }
   ],
   "source": [
    "arr_y.shape"
   ]
  },
  {
   "cell_type": "code",
   "execution_count": 28,
   "metadata": {},
   "outputs": [
    {
     "data": {
      "text/plain": [
       "numpy.ndarray"
      ]
     },
     "execution_count": 28,
     "metadata": {},
     "output_type": "execute_result"
    }
   ],
   "source": [
    "type(arr_y)"
   ]
  },
  {
   "cell_type": "code",
   "execution_count": 30,
   "metadata": {},
   "outputs": [
    {
     "data": {
      "text/plain": [
       "2350"
      ]
     },
     "execution_count": 30,
     "metadata": {},
     "output_type": "execute_result"
    }
   ],
   "source": [
    "df_X['ID'].nunique()"
   ]
  },
  {
   "cell_type": "code",
   "execution_count": 40,
   "metadata": {},
   "outputs": [
    {
     "data": {
      "text/html": [
       "<div>\n",
       "<style scoped>\n",
       "    .dataframe tbody tr th:only-of-type {\n",
       "        vertical-align: middle;\n",
       "    }\n",
       "\n",
       "    .dataframe tbody tr th {\n",
       "        vertical-align: top;\n",
       "    }\n",
       "\n",
       "    .dataframe thead th {\n",
       "        text-align: right;\n",
       "    }\n",
       "</style>\n",
       "<table border=\"1\" class=\"dataframe\">\n",
       "  <thead>\n",
       "    <tr style=\"text-align: right;\">\n",
       "      <th></th>\n",
       "      <th>index</th>\n",
       "      <th>Strain</th>\n",
       "      <th>Type</th>\n",
       "      <th>Rating</th>\n",
       "      <th>Effects</th>\n",
       "      <th>Flavor</th>\n",
       "      <th>Description</th>\n",
       "      <th>Ammonia_flavor</th>\n",
       "      <th>Apple_flavor</th>\n",
       "      <th>Apricot_flavor</th>\n",
       "      <th>...</th>\n",
       "      <th>hybrid_type</th>\n",
       "      <th>sativa_type</th>\n",
       "      <th>indica_type</th>\n",
       "      <th>Savor</th>\n",
       "      <th>Style</th>\n",
       "      <th>Breed</th>\n",
       "      <th>Text</th>\n",
       "      <th>Effects_and_Flavor</th>\n",
       "      <th>ID</th>\n",
       "      <th>tokens</th>\n",
       "    </tr>\n",
       "  </thead>\n",
       "  <tbody>\n",
       "    <tr>\n",
       "      <th>0</th>\n",
       "      <td>0</td>\n",
       "      <td>100-Og</td>\n",
       "      <td>hybrid</td>\n",
       "      <td>4.0</td>\n",
       "      <td>Creative, Energetic, Tingly, Euphoric, Relaxed</td>\n",
       "      <td>Earthy, Sweet, Citrus</td>\n",
       "      <td>$100 OG is a 50/50 hybrid strain that packs a ...</td>\n",
       "      <td>False</td>\n",
       "      <td>False</td>\n",
       "      <td>False</td>\n",
       "      <td>...</td>\n",
       "      <td>True</td>\n",
       "      <td>False</td>\n",
       "      <td>False</td>\n",
       "      <td>, Earthy, Sweet, Citrus</td>\n",
       "      <td>, $100 OG is a 50/50 hybrid strain that packs ...</td>\n",
       "      <td>, 100-Og</td>\n",
       "      <td>Creative  Energetic  Tingly  Euphoric  Relaxed...</td>\n",
       "      <td>Creative, Energetic, Tingly, Euphoric, Relaxed...</td>\n",
       "      <td>0</td>\n",
       "      <td>['creative', 'energetic', 'tingly', 'euphoric'...</td>\n",
       "    </tr>\n",
       "    <tr>\n",
       "      <th>1</th>\n",
       "      <td>1</td>\n",
       "      <td>98-White-Widow</td>\n",
       "      <td>hybrid</td>\n",
       "      <td>4.7</td>\n",
       "      <td>Relaxed, Aroused, Creative, Happy, Energetic</td>\n",
       "      <td>Flowery, Violet, Diesel</td>\n",
       "      <td>The ‘98 Aloha White Widow is an especially pot...</td>\n",
       "      <td>False</td>\n",
       "      <td>False</td>\n",
       "      <td>False</td>\n",
       "      <td>...</td>\n",
       "      <td>True</td>\n",
       "      <td>False</td>\n",
       "      <td>False</td>\n",
       "      <td>, Flowery, Violet, Diesel</td>\n",
       "      <td>, The ‘98 Aloha White Widow is an especially p...</td>\n",
       "      <td>, 98-White-Widow</td>\n",
       "      <td>Relaxed  Aroused  Creative  Happy  Energetic  ...</td>\n",
       "      <td>Relaxed, Aroused, Creative, Happy, Energetic, ...</td>\n",
       "      <td>1</td>\n",
       "      <td>['relaxed', 'aroused', 'creative', 'happy', 'e...</td>\n",
       "    </tr>\n",
       "  </tbody>\n",
       "</table>\n",
       "<p>2 rows × 73 columns</p>\n",
       "</div>"
      ],
      "text/plain": [
       "   index          Strain    Type  Rating  \\\n",
       "0      0          100-Og  hybrid     4.0   \n",
       "1      1  98-White-Widow  hybrid     4.7   \n",
       "\n",
       "                                          Effects                   Flavor  \\\n",
       "0  Creative, Energetic, Tingly, Euphoric, Relaxed    Earthy, Sweet, Citrus   \n",
       "1    Relaxed, Aroused, Creative, Happy, Energetic  Flowery, Violet, Diesel   \n",
       "\n",
       "                                         Description Ammonia_flavor  \\\n",
       "0  $100 OG is a 50/50 hybrid strain that packs a ...          False   \n",
       "1  The ‘98 Aloha White Widow is an especially pot...          False   \n",
       "\n",
       "  Apple_flavor Apricot_flavor  ... hybrid_type sativa_type indica_type  \\\n",
       "0        False          False  ...        True       False       False   \n",
       "1        False          False  ...        True       False       False   \n",
       "\n",
       "                       Savor  \\\n",
       "0    , Earthy, Sweet, Citrus   \n",
       "1  , Flowery, Violet, Diesel   \n",
       "\n",
       "                                               Style             Breed  \\\n",
       "0  , $100 OG is a 50/50 hybrid strain that packs ...          , 100-Og   \n",
       "1  , The ‘98 Aloha White Widow is an especially p...  , 98-White-Widow   \n",
       "\n",
       "                                                Text  \\\n",
       "0  Creative  Energetic  Tingly  Euphoric  Relaxed...   \n",
       "1  Relaxed  Aroused  Creative  Happy  Energetic  ...   \n",
       "\n",
       "                                  Effects_and_Flavor ID  \\\n",
       "0  Creative, Energetic, Tingly, Euphoric, Relaxed...  0   \n",
       "1  Relaxed, Aroused, Creative, Happy, Energetic, ...  1   \n",
       "\n",
       "                                              tokens  \n",
       "0  ['creative', 'energetic', 'tingly', 'euphoric'...  \n",
       "1  ['relaxed', 'aroused', 'creative', 'happy', 'e...  \n",
       "\n",
       "[2 rows x 73 columns]"
      ]
     },
     "execution_count": 40,
     "metadata": {},
     "output_type": "execute_result"
    }
   ],
   "source": [
    "df_X.head(2)"
   ]
  },
  {
   "cell_type": "code",
   "execution_count": 32,
   "metadata": {},
   "outputs": [],
   "source": [
    "df_X = df_X.drop(columns=['index', \n",
    "                          'Strain',\n",
    "                          'Type',\n",
    "                          'Rating', \n",
    "                          'Effects', \n",
    "                          'Flavor', \n",
    "                          'Description',\n",
    "                          'ID'])    "
   ]
  },
  {
   "cell_type": "code",
   "execution_count": 36,
   "metadata": {},
   "outputs": [],
   "source": [
    "df_X = df_X.replace([True, False],\n",
    "                    [1.0, 0.0])"
   ]
  },
  {
   "cell_type": "code",
   "execution_count": 37,
   "metadata": {},
   "outputs": [
    {
     "data": {
      "text/html": [
       "<div>\n",
       "<style scoped>\n",
       "    .dataframe tbody tr th:only-of-type {\n",
       "        vertical-align: middle;\n",
       "    }\n",
       "\n",
       "    .dataframe tbody tr th {\n",
       "        vertical-align: top;\n",
       "    }\n",
       "\n",
       "    .dataframe thead th {\n",
       "        text-align: right;\n",
       "    }\n",
       "</style>\n",
       "<table border=\"1\" class=\"dataframe\">\n",
       "  <thead>\n",
       "    <tr style=\"text-align: right;\">\n",
       "      <th></th>\n",
       "      <th>Unnamed: 0</th>\n",
       "      <th>Ammonia_flavor</th>\n",
       "      <th>Apple_flavor</th>\n",
       "      <th>Apricot_flavor</th>\n",
       "      <th>Berry_flavor</th>\n",
       "      <th>Blue_flavor</th>\n",
       "      <th>Blueberry_flavor</th>\n",
       "      <th>Citrus_flavor</th>\n",
       "      <th>Cheese_flavor</th>\n",
       "      <th>Chemical_flavor</th>\n",
       "      <th>...</th>\n",
       "      <th>None_effect</th>\n",
       "      <th>hybrid_type</th>\n",
       "      <th>sativa_type</th>\n",
       "      <th>indica_type</th>\n",
       "      <th>Savor</th>\n",
       "      <th>Style</th>\n",
       "      <th>Breed</th>\n",
       "      <th>Text</th>\n",
       "      <th>Effects_and_Flavor</th>\n",
       "      <th>tokens</th>\n",
       "    </tr>\n",
       "  </thead>\n",
       "  <tbody>\n",
       "    <tr>\n",
       "      <th>0</th>\n",
       "      <td>0.0</td>\n",
       "      <td>0.0</td>\n",
       "      <td>0.0</td>\n",
       "      <td>0.0</td>\n",
       "      <td>0.0</td>\n",
       "      <td>0.0</td>\n",
       "      <td>0.0</td>\n",
       "      <td>1.0</td>\n",
       "      <td>0.0</td>\n",
       "      <td>0.0</td>\n",
       "      <td>...</td>\n",
       "      <td>0.0</td>\n",
       "      <td>1.0</td>\n",
       "      <td>0.0</td>\n",
       "      <td>0.0</td>\n",
       "      <td>, Earthy, Sweet, Citrus</td>\n",
       "      <td>, $100 OG is a 50/50 hybrid strain that packs ...</td>\n",
       "      <td>, 100-Og</td>\n",
       "      <td>Creative  Energetic  Tingly  Euphoric  Relaxed...</td>\n",
       "      <td>Creative, Energetic, Tingly, Euphoric, Relaxed...</td>\n",
       "      <td>['creative', 'energetic', 'tingly', 'euphoric'...</td>\n",
       "    </tr>\n",
       "  </tbody>\n",
       "</table>\n",
       "<p>1 rows × 66 columns</p>\n",
       "</div>"
      ],
      "text/plain": [
       "   Unnamed: 0  Ammonia_flavor  Apple_flavor  Apricot_flavor  Berry_flavor  \\\n",
       "0         0.0             0.0           0.0             0.0           0.0   \n",
       "\n",
       "   Blue_flavor  Blueberry_flavor  Citrus_flavor  Cheese_flavor  \\\n",
       "0          0.0               0.0            1.0            0.0   \n",
       "\n",
       "   Chemical_flavor  ...  None_effect  hybrid_type  sativa_type  indica_type  \\\n",
       "0              0.0  ...          0.0          1.0          0.0          0.0   \n",
       "\n",
       "                     Savor                                              Style  \\\n",
       "0  , Earthy, Sweet, Citrus  , $100 OG is a 50/50 hybrid strain that packs ...   \n",
       "\n",
       "      Breed                                               Text  \\\n",
       "0  , 100-Og  Creative  Energetic  Tingly  Euphoric  Relaxed...   \n",
       "\n",
       "                                  Effects_and_Flavor  \\\n",
       "0  Creative, Energetic, Tingly, Euphoric, Relaxed...   \n",
       "\n",
       "                                              tokens  \n",
       "0  ['creative', 'energetic', 'tingly', 'euphoric'...  \n",
       "\n",
       "[1 rows x 66 columns]"
      ]
     },
     "execution_count": 37,
     "metadata": {},
     "output_type": "execute_result"
    }
   ],
   "source": [
    "df_X.head(1)"
   ]
  },
  {
   "cell_type": "code",
   "execution_count": 41,
   "metadata": {},
   "outputs": [],
   "source": [
    "arr_X = df_X.to_numpy()"
   ]
  },
  {
   "cell_type": "code",
   "execution_count": 45,
   "metadata": {},
   "outputs": [
    {
     "ename": "ValueError",
     "evalue": "invalid literal for int() with base 10: '100-Og'",
     "output_type": "error",
     "traceback": [
      "\u001b[0;31m---------------------------------------------------------------------------\u001b[0m",
      "\u001b[0;31mValueError\u001b[0m                                Traceback (most recent call last)",
      "\u001b[0;32m<ipython-input-45-7884cb220689>\u001b[0m in \u001b[0;36m<module>\u001b[0;34m\u001b[0m\n\u001b[0;32m----> 1\u001b[0;31m \u001b[0marr_X\u001b[0m \u001b[0;34m=\u001b[0m \u001b[0marr_X\u001b[0m\u001b[0;34m.\u001b[0m\u001b[0mastype\u001b[0m\u001b[0;34m(\u001b[0m\u001b[0mint\u001b[0m\u001b[0;34m)\u001b[0m\u001b[0;34m\u001b[0m\u001b[0m\n\u001b[0m",
      "\u001b[0;31mValueError\u001b[0m: invalid literal for int() with base 10: '100-Og'"
     ]
    }
   ],
   "source": [
    "arr_X = arr_X.astype(int)"
   ]
  },
  {
   "cell_type": "code",
   "execution_count": null,
   "metadata": {},
   "outputs": [],
   "source": []
  }
 ],
 "metadata": {
  "kernelspec": {
   "display_name": "U4S1DS10 (Python 3.7)",
   "language": "python",
   "name": "u4-s1-nlp-ds10"
  },
  "language_info": {
   "codemirror_mode": {
    "name": "ipython",
    "version": 3
   },
   "file_extension": ".py",
   "mimetype": "text/x-python",
   "name": "python",
   "nbconvert_exporter": "python",
   "pygments_lexer": "ipython3",
   "version": "3.7.0"
  }
 },
 "nbformat": 4,
 "nbformat_minor": 4
}
