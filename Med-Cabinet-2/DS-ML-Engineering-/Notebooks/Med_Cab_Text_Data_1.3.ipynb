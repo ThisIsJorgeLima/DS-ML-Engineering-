{
 "cells": [
  {
   "cell_type": "markdown",
   "metadata": {},
   "source": [
    "### NLP Med Cab Part ii\n",
    "- cont. from 1.3 Notebook\n",
    "- Perform stemming and lemmatization on tokens"
   ]
  },
  {
   "cell_type": "code",
   "execution_count": 36,
   "metadata": {},
   "outputs": [],
   "source": [
    "\"\"\"\n",
    "Import Statements\n",
    "\n",
    "\"\"\"\n",
    "\n",
    "# Classics\n",
    "import numpy as np\n",
    "import pandas as pd\n",
    "\n",
    "# Base\n",
    "from collections import Counter\n",
    "\n",
    "# Plotting\n",
    "import squarify\n",
    "import seaborn as sns\n",
    "import matplotlib.pyplot as plt\n",
    "\n",
    "# NLP Libraries\n",
    "import spacy\n",
    "from spacy.tokenizer import Tokenizer\n",
    "\n",
    "nlp = spacy.load(\"en_core_web_md\")"
   ]
  },
  {
   "cell_type": "code",
   "execution_count": 216,
   "metadata": {},
   "outputs": [
    {
     "data": {
      "text/plain": [
       "'/Users/jorge/Med-Cabinet-2/Data'"
      ]
     },
     "execution_count": 216,
     "metadata": {},
     "output_type": "execute_result"
    }
   ],
   "source": [
    "pwd"
   ]
  },
  {
   "cell_type": "code",
   "execution_count": 217,
   "metadata": {},
   "outputs": [
    {
     "name": "stdout",
     "output_type": "stream",
     "text": [
      "Untitled.ipynb  cannabis.csv    medcab.csv      medcab1_2.csv\n"
     ]
    }
   ],
   "source": [
    "ls"
   ]
  },
  {
   "cell_type": "code",
   "execution_count": 18,
   "metadata": {},
   "outputs": [
    {
     "name": "stdout",
     "output_type": "stream",
     "text": [
      "(2350, 73)\n"
     ]
    },
    {
     "data": {
      "text/html": [
       "<div>\n",
       "<style scoped>\n",
       "    .dataframe tbody tr th:only-of-type {\n",
       "        vertical-align: middle;\n",
       "    }\n",
       "\n",
       "    .dataframe tbody tr th {\n",
       "        vertical-align: top;\n",
       "    }\n",
       "\n",
       "    .dataframe thead th {\n",
       "        text-align: right;\n",
       "    }\n",
       "</style>\n",
       "<table border=\"1\" class=\"dataframe\">\n",
       "  <thead>\n",
       "    <tr style=\"text-align: right;\">\n",
       "      <th></th>\n",
       "      <th>index</th>\n",
       "      <th>Strain</th>\n",
       "      <th>Type</th>\n",
       "      <th>Rating</th>\n",
       "      <th>Effects</th>\n",
       "      <th>Flavor</th>\n",
       "      <th>Description</th>\n",
       "      <th>Ammonia_flavor</th>\n",
       "      <th>Apple_flavor</th>\n",
       "      <th>Apricot_flavor</th>\n",
       "      <th>...</th>\n",
       "      <th>hybrid_type</th>\n",
       "      <th>sativa_type</th>\n",
       "      <th>indica_type</th>\n",
       "      <th>Savor</th>\n",
       "      <th>Style</th>\n",
       "      <th>Breed</th>\n",
       "      <th>Text</th>\n",
       "      <th>Effects_and_Flavor</th>\n",
       "      <th>ID</th>\n",
       "      <th>tokens</th>\n",
       "    </tr>\n",
       "  </thead>\n",
       "  <tbody>\n",
       "    <tr>\n",
       "      <th>0</th>\n",
       "      <td>0.0</td>\n",
       "      <td>100-Og</td>\n",
       "      <td>hybrid</td>\n",
       "      <td>4.0</td>\n",
       "      <td>Creative, Energetic, Tingly, Euphoric, Relaxed</td>\n",
       "      <td>Earthy, Sweet, Citrus</td>\n",
       "      <td>$100 OG is a 50/50 hybrid strain that packs a ...</td>\n",
       "      <td>0</td>\n",
       "      <td>0</td>\n",
       "      <td>0</td>\n",
       "      <td>...</td>\n",
       "      <td>1.0</td>\n",
       "      <td>0.0</td>\n",
       "      <td>0.0</td>\n",
       "      <td>, Earthy, Sweet, Citrus</td>\n",
       "      <td>, $100 OG is a 50/50 hybrid strain that packs ...</td>\n",
       "      <td>, 100-Og</td>\n",
       "      <td>Creative  Energetic  Tingly  Euphoric  Relaxed...</td>\n",
       "      <td>Creative, Energetic, Tingly, Euphoric, Relaxed...</td>\n",
       "      <td>0.0</td>\n",
       "      <td>['creative', 'energetic', 'tingly', 'euphoric'...</td>\n",
       "    </tr>\n",
       "    <tr>\n",
       "      <th>1</th>\n",
       "      <td>1.0</td>\n",
       "      <td>98-White-Widow</td>\n",
       "      <td>hybrid</td>\n",
       "      <td>4.7</td>\n",
       "      <td>Relaxed, Aroused, Creative, Happy, Energetic</td>\n",
       "      <td>Flowery, Violet, Diesel</td>\n",
       "      <td>The ‘98 Aloha White Widow is an especially pot...</td>\n",
       "      <td>0</td>\n",
       "      <td>0</td>\n",
       "      <td>0</td>\n",
       "      <td>...</td>\n",
       "      <td>1.0</td>\n",
       "      <td>0.0</td>\n",
       "      <td>0.0</td>\n",
       "      <td>, Flowery, Violet, Diesel</td>\n",
       "      <td>, The ‘98 Aloha White Widow is an especially p...</td>\n",
       "      <td>, 98-White-Widow</td>\n",
       "      <td>Relaxed  Aroused  Creative  Happy  Energetic  ...</td>\n",
       "      <td>Relaxed, Aroused, Creative, Happy, Energetic, ...</td>\n",
       "      <td>1.0</td>\n",
       "      <td>['relaxed', 'aroused', 'creative', 'happy', 'e...</td>\n",
       "    </tr>\n",
       "    <tr>\n",
       "      <th>2</th>\n",
       "      <td>2.0</td>\n",
       "      <td>1024</td>\n",
       "      <td>sativa</td>\n",
       "      <td>4.4</td>\n",
       "      <td>Uplifted, Happy, Relaxed, Energetic, Creative</td>\n",
       "      <td>Spicy/Herbal, Sage, Woody</td>\n",
       "      <td>1024 is a sativa-dominant hybrid bred in Spain...</td>\n",
       "      <td>0</td>\n",
       "      <td>0</td>\n",
       "      <td>0</td>\n",
       "      <td>...</td>\n",
       "      <td>0.0</td>\n",
       "      <td>1.0</td>\n",
       "      <td>0.0</td>\n",
       "      <td>, Spicy/Herbal, Sage, Woody</td>\n",
       "      <td>, 1024 is a sativa-dominant hybrid bred in Spa...</td>\n",
       "      <td>, 1024</td>\n",
       "      <td>Uplifted  Happy  Relaxed  Energetic  Creative ...</td>\n",
       "      <td>Uplifted, Happy, Relaxed, Energetic, Creative,...</td>\n",
       "      <td>2.0</td>\n",
       "      <td>['uplifted', 'happy', 'relaxed', 'energetic', ...</td>\n",
       "    </tr>\n",
       "  </tbody>\n",
       "</table>\n",
       "<p>3 rows × 73 columns</p>\n",
       "</div>"
      ],
      "text/plain": [
       "   index          Strain    Type  Rating  \\\n",
       "0    0.0          100-Og  hybrid     4.0   \n",
       "1    1.0  98-White-Widow  hybrid     4.7   \n",
       "2    2.0            1024  sativa     4.4   \n",
       "\n",
       "                                          Effects                     Flavor  \\\n",
       "0  Creative, Energetic, Tingly, Euphoric, Relaxed      Earthy, Sweet, Citrus   \n",
       "1    Relaxed, Aroused, Creative, Happy, Energetic    Flowery, Violet, Diesel   \n",
       "2   Uplifted, Happy, Relaxed, Energetic, Creative  Spicy/Herbal, Sage, Woody   \n",
       "\n",
       "                                         Description Ammonia_flavor  \\\n",
       "0  $100 OG is a 50/50 hybrid strain that packs a ...              0   \n",
       "1  The ‘98 Aloha White Widow is an especially pot...              0   \n",
       "2  1024 is a sativa-dominant hybrid bred in Spain...              0   \n",
       "\n",
       "  Apple_flavor Apricot_flavor  ... hybrid_type sativa_type indica_type  \\\n",
       "0            0              0  ...         1.0         0.0         0.0   \n",
       "1            0              0  ...         1.0         0.0         0.0   \n",
       "2            0              0  ...         0.0         1.0         0.0   \n",
       "\n",
       "                         Savor  \\\n",
       "0      , Earthy, Sweet, Citrus   \n",
       "1    , Flowery, Violet, Diesel   \n",
       "2  , Spicy/Herbal, Sage, Woody   \n",
       "\n",
       "                                               Style             Breed  \\\n",
       "0  , $100 OG is a 50/50 hybrid strain that packs ...          , 100-Og   \n",
       "1  , The ‘98 Aloha White Widow is an especially p...  , 98-White-Widow   \n",
       "2  , 1024 is a sativa-dominant hybrid bred in Spa...            , 1024   \n",
       "\n",
       "                                                Text  \\\n",
       "0  Creative  Energetic  Tingly  Euphoric  Relaxed...   \n",
       "1  Relaxed  Aroused  Creative  Happy  Energetic  ...   \n",
       "2  Uplifted  Happy  Relaxed  Energetic  Creative ...   \n",
       "\n",
       "                                  Effects_and_Flavor   ID  \\\n",
       "0  Creative, Energetic, Tingly, Euphoric, Relaxed...  0.0   \n",
       "1  Relaxed, Aroused, Creative, Happy, Energetic, ...  1.0   \n",
       "2  Uplifted, Happy, Relaxed, Energetic, Creative,...  2.0   \n",
       "\n",
       "                                              tokens  \n",
       "0  ['creative', 'energetic', 'tingly', 'euphoric'...  \n",
       "1  ['relaxed', 'aroused', 'creative', 'happy', 'e...  \n",
       "2  ['uplifted', 'happy', 'relaxed', 'energetic', ...  \n",
       "\n",
       "[3 rows x 73 columns]"
      ]
     },
     "execution_count": 18,
     "metadata": {},
     "output_type": "execute_result"
    }
   ],
   "source": [
    "df = pd.read_csv('/Users/jorge/Med-Cabinet-2/Data/medcab1_2.csv')\n",
    "df = df.fillna('none')\n",
    "df = df.drop('Unnamed: 0', 1)\n",
    "df = df.replace([True, False],\n",
    "                    [1.0, 0.0])\n",
    "print(df.shape)\n",
    "df.head(3)"
   ]
  },
  {
   "cell_type": "markdown",
   "metadata": {},
   "source": [
    "### Search Results by quality strains:"
   ]
  },
  {
   "cell_type": "code",
   "execution_count": 19,
   "metadata": {},
   "outputs": [],
   "source": [
    "good_stuff = df[df['Rating'] >= 4.0]"
   ]
  },
  {
   "cell_type": "code",
   "execution_count": 20,
   "metadata": {},
   "outputs": [],
   "source": [
    "good_stuff = df.replace(np.nan, '', regex=True)"
   ]
  },
  {
   "cell_type": "markdown",
   "metadata": {},
   "source": [
    "### Standaridize our string input:"
   ]
  },
  {
   "cell_type": "code",
   "execution_count": 21,
   "metadata": {},
   "outputs": [
    {
     "data": {
      "text/plain": [
       "Index(['index', 'Strain', 'Type', 'Rating', 'Effects', 'Flavor', 'Description',\n",
       "       'Ammonia_flavor', 'Apple_flavor', 'Apricot_flavor', 'Berry_flavor',\n",
       "       'Blue_flavor', 'Blueberry_flavor', 'Citrus_flavor', 'Cheese_flavor',\n",
       "       'Chemical_flavor', 'Chestnut_flavor', 'Diesel_flavor', 'Earthy_flavor',\n",
       "       'Flowery_flavor', 'Fruit_flavor', 'Grape_flavor', 'Grapefruit_flavor',\n",
       "       'Honey_flavor', 'Lavender_flavor', 'Lemon_flavor', 'Mango_flavor',\n",
       "       'Menthol_flavor', 'Mint_flavor', 'Minty_flavor', 'Nutty_flavor',\n",
       "       'Orange_flavor', 'Peach_flavor', 'Pepper_flavor', 'Pine_flavor',\n",
       "       'Pineapple_flavor', 'Pungent_flavor', 'Sage_flavor', 'Skunk_flavor',\n",
       "       'SpicyHerbal_flavor', 'Strawberry', 'Sweet_flavor', 'Tea_flavor',\n",
       "       'Tobacco_flavor', 'Tree_flavor', 'Tropical_flavor', 'Vanilla_flavor',\n",
       "       'Violet_flavor', 'Woody_flavor', 'Aroused_effect', 'Creative_effect',\n",
       "       'Energetic_effect', 'Euphoric_effect', 'Focused_effect',\n",
       "       'Giggly_effect', 'Happy_effect', 'Hungry_effect', 'Relaxed_effect',\n",
       "       'Sleepy_effect', 'Talkative_effect', 'Tingly_effect', 'Uplifted_effect',\n",
       "       'None_effect', 'hybrid_type', 'sativa_type', 'indica_type', 'Savor',\n",
       "       'Style', 'Breed', 'Text', 'Effects_and_Flavor', 'ID', 'tokens'],\n",
       "      dtype='object')"
      ]
     },
     "execution_count": 21,
     "metadata": {},
     "output_type": "execute_result"
    }
   ],
   "source": [
    "df.columns"
   ]
  },
  {
   "cell_type": "markdown",
   "metadata": {},
   "source": [
    "Combine labels into one string, for vectorization:"
   ]
  },
  {
   "cell_type": "code",
   "execution_count": 22,
   "metadata": {},
   "outputs": [],
   "source": [
    "import re, string\n",
    "# df['tokens'].head()\n",
    "df['tokens'] = df['tokens'].str.replace(r'\\\\(x|n)[a-z0-9]{0,2}', ' ')\n",
    "df['tokens'] = df['tokens'].str.replace(r'<[^<]+?>', '').str.replace(r'^b.', '')\n",
    "df['tokens'] = df['tokens'].str.replace('/', ' ')"
   ]
  },
  {
   "cell_type": "code",
   "execution_count": 23,
   "metadata": {},
   "outputs": [],
   "source": [
    "def punct_cleaning(column):\n",
    "    processed_data = []\n",
    "    for i in column:\n",
    "        text = re.sub('[%s]' % string.punctuation, '', i).lower()\n",
    "        processed_data.append(text)\n",
    "    return pd.DataFrame(processed_data)"
   ]
  },
  {
   "cell_type": "code",
   "execution_count": 24,
   "metadata": {},
   "outputs": [
    {
     "data": {
      "text/plain": [
       "'creative energetic tingly euphoric relaxed earthy sweet citrus 100 og 50 50 hybrid packs strong punch supposedly refers strength high price started showing hollywood plant 100 og tends produce large dark green stems users report strong body effect indica pain relief alert cerebral feeling thanks sativa side 100og 100 og 50 50 hybrid packs strong punch supposedly refers strength high price started showing hollywood plant 100 og tends produce large dark green stems users report strong body effect indica pain relief alert cerebral feeling thanks sativa side'"
      ]
     },
     "execution_count": 24,
     "metadata": {},
     "output_type": "execute_result"
    }
   ],
   "source": [
    "df['tokens'] = punct_cleaning(df['tokens'])\n",
    "df['tokens'][0]"
   ]
  },
  {
   "cell_type": "code",
   "execution_count": 25,
   "metadata": {},
   "outputs": [],
   "source": [
    "df['lemmas'] = df['tokens'].apply(lambda text: \n",
    "                                  [token.lemma_ for token in nlp(text) if (token.is_stop != True) and \n",
    "                                  (token.is_punct != True)])"
   ]
  },
  {
   "cell_type": "code",
   "execution_count": 26,
   "metadata": {},
   "outputs": [
    {
     "data": {
      "text/plain": [
       "0       creative energetic tingly euphoric relaxed ear...\n",
       "1       relax arouse creative happy energetic flowery ...\n",
       "2       uplift happy relaxed energetic creative spicy ...\n",
       "3       tingly creative hungry relaxed uplifted aprico...\n",
       "4       happy relaxed euphoric uplifted talkative citr...\n",
       "5       3 bear og mephisto autoflowere cross bear og k...\n",
       "6       relax euphoric happy uplifted hungry earthy sw...\n",
       "7       relax happy euphoric uplifted giggly citrus pu...\n",
       "8       uplift focus happy talkative relaxed earthy wo...\n",
       "9       relax tingly happy euphoric uplifted earthy gr...\n",
       "10      energetic happy talkative uplifted pine diesel...\n",
       "11      relax euphoric sleepy happy talkative earthy p...\n",
       "12      relax focus euphoric uplifted aroused earthy w...\n",
       "13      euphoric happy uplifted talkative creative ear...\n",
       "14      relax uplifted happy creative euphoric citrus ...\n",
       "15      relax happy euphoric giggly sleepy earthy dies...\n",
       "16      831 og aka santa cruz og indicadominant develo...\n",
       "17      relax sleepy euphoric happy hungry earthy swee...\n",
       "18      relax euphoric happy hungry uplifted earthy pu...\n",
       "19      relax focus happy sleepy uplifted citrus punge...\n",
       "20      relax happy euphoric uplifted sleepy diesel pe...\n",
       "21      creative euphoric relaxed happy hungry earthy ...\n",
       "22      relax happy uplifted focused euphoric earthy p...\n",
       "23      happy relaxed uplifted euphoric energetic eart...\n",
       "24      happy energetic uplifted creative relaxed eart...\n",
       "25      uplift euphoric giggly energetic sleepy mentho...\n",
       "26      relax euphoric sleepy happy giggly earthy pine...\n",
       "27      happy uplift euphoric energetic relaxed earthy...\n",
       "28      relax sleepy euphoric happy uplifted earthy di...\n",
       "29      relax euphoric happy sleepy hungry earthy swee...\n",
       "                              ...                        \n",
       "2320    relax tingly euphoric arouse happy flowery men...\n",
       "2321    creative hungry happy euphoric focus grape str...\n",
       "2322    relax happy euphoric sleepy hungry earthy pine...\n",
       "2323    talkative euphoric relaxed berry earthy skunk ...\n",
       "2324    happy relaxed euphoric uplifted focused mentho...\n",
       "2325    uplift relaxed focus energetic talkative earth...\n",
       "2326    tingly euphoric relaxed confused similarsoundi...\n",
       "2327    relax euphoric uplifted happy aroused earthy c...\n",
       "2328    relax sleepy focused creative happy earthy pun...\n",
       "2329    sleepy uplift euphoric happy hungry pungent sk...\n",
       "2330    happy euphoric relaxed uplifted creative citru...\n",
       "2331    relax focus tingly talkative happy sweet berry...\n",
       "2332    relax sleepy euphoric happy uplifted pine wood...\n",
       "2333    focus happy energetic talkative uplifted spicy...\n",
       "2334    happy energetic uplifted focused euphoric eart...\n",
       "2335    relax euphoric sleepy happy hungry earthy pung...\n",
       "2336    relaxed uplifted sleepy happy euphoric earthy ...\n",
       "2337    sleepy happy arouse relaxed hungry pine sage f...\n",
       "2338    uplift euphoric tingly creative happy diesel c...\n",
       "2339    relax happy sleepy euphoric hungry spicy herba...\n",
       "2340    uplift relaxed happy energetic euphoric sweet ...\n",
       "2341    tingly uplift energetic zamaldelica ace seed p...\n",
       "2342    happy uplift energetic relaxed euphoric sweet ...\n",
       "2343    happy energetic uplifted euphoric focus earthy...\n",
       "2344    happy relaxed uplifted euphoric focus diesel p...\n",
       "2345    happy uplift relaxed euphoric energetic earthy...\n",
       "2346    relax happy euphoric uplifted sleepy sweet ber...\n",
       "2347    relax sleepy talkative euphoric happy earthy s...\n",
       "2348    relax sleepy euphoric happy hungry sweet earth...\n",
       "2349    hungry relax uplifted happy sleepy berry earth...\n",
       "Name: lemmas, Length: 2350, dtype: object"
      ]
     },
     "execution_count": 26,
     "metadata": {},
     "output_type": "execute_result"
    }
   ],
   "source": [
    "df['lemmas'] = df['lemmas'].str.join(' ')\n",
    "df['lemmas']"
   ]
  },
  {
   "cell_type": "code",
   "execution_count": 207,
   "metadata": {},
   "outputs": [
    {
     "data": {
      "image/png": "[encoded data removed]",
      "text/plain": [
       "<Figure size 432x288 with 1 Axes>"
      ]
     },
     "metadata": {
      "needs_background": "light"
     },
     "output_type": "display_data"
    }
   ],
   "source": [
    "sns.distplot(doc_len)\n",
    "plt.show()"
   ]
  },
  {
   "cell_type": "code",
   "execution_count": 228,
   "metadata": {},
   "outputs": [],
   "source": [
    "def count(docs):\n",
    "\n",
    "        word_counts = Counter()\n",
    "        appears_in = Counter()\n",
    "        \n",
    "        total_docs = len(docs)\n",
    "\n",
    "        for doc in docs:\n",
    "            word_counts.update(doc)\n",
    "            appears_in.update(set(doc))\n",
    "\n",
    "        temp = zip(word_counts.keys(), word_counts.values())\n",
    "        \n",
    "        wc = pd.DataFrame(temp, columns = ['word', 'count'])\n",
    "\n",
    "        wc['rank'] = wc['count'].rank(method='first', ascending=False)\n",
    "        total = wc['count'].sum()\n",
    "\n",
    "        wc['pct_total'] = wc['count'].apply(lambda x: x / total)\n",
    "        \n",
    "        wc = wc.sort_values(by='rank')\n",
    "        wc['cul_pct_total'] = wc['pct_total'].cumsum()\n",
    "\n",
    "        t2 = zip(appears_in.keys(), appears_in.values())\n",
    "        ac = pd.DataFrame(t2, columns=['word', 'appears_in'])\n",
    "        wc = ac.merge(wc, on='word')\n",
    "\n",
    "        wc['appears_in_pct'] = wc['appears_in'].apply(lambda x: x / total_docs)\n",
    "        \n",
    "        return wc.sort_values(by='rank')"
   ]
  },
  {
   "cell_type": "code",
   "execution_count": 229,
   "metadata": {},
   "outputs": [
    {
     "data": {
      "text/html": [
       "<div>\n",
       "<style scoped>\n",
       "    .dataframe tbody tr th:only-of-type {\n",
       "        vertical-align: middle;\n",
       "    }\n",
       "\n",
       "    .dataframe tbody tr th {\n",
       "        vertical-align: top;\n",
       "    }\n",
       "\n",
       "    .dataframe thead th {\n",
       "        text-align: right;\n",
       "    }\n",
       "</style>\n",
       "<table border=\"1\" class=\"dataframe\">\n",
       "  <thead>\n",
       "    <tr style=\"text-align: right;\">\n",
       "      <th></th>\n",
       "      <th>word</th>\n",
       "      <th>appears_in</th>\n",
       "      <th>count</th>\n",
       "      <th>rank</th>\n",
       "      <th>pct_total</th>\n",
       "      <th>cul_pct_total</th>\n",
       "      <th>appears_in_pct</th>\n",
       "    </tr>\n",
       "  </thead>\n",
       "  <tbody>\n",
       "    <tr>\n",
       "      <th>8</th>\n",
       "      <td></td>\n",
       "      <td>2346</td>\n",
       "      <td>229405</td>\n",
       "      <td>1.0</td>\n",
       "      <td>0.141129</td>\n",
       "      <td>0.141129</td>\n",
       "      <td>0.998298</td>\n",
       "    </tr>\n",
       "    <tr>\n",
       "      <th>3</th>\n",
       "      <td>e</td>\n",
       "      <td>2350</td>\n",
       "      <td>169514</td>\n",
       "      <td>2.0</td>\n",
       "      <td>0.104284</td>\n",
       "      <td>0.245414</td>\n",
       "      <td>1.000000</td>\n",
       "    </tr>\n",
       "    <tr>\n",
       "      <th>11</th>\n",
       "      <td>a</td>\n",
       "      <td>2350</td>\n",
       "      <td>110298</td>\n",
       "      <td>3.0</td>\n",
       "      <td>0.067855</td>\n",
       "      <td>0.313269</td>\n",
       "      <td>1.000000</td>\n",
       "    </tr>\n",
       "    <tr>\n",
       "      <th>20</th>\n",
       "      <td>i</td>\n",
       "      <td>2347</td>\n",
       "      <td>108028</td>\n",
       "      <td>4.0</td>\n",
       "      <td>0.066458</td>\n",
       "      <td>0.379727</td>\n",
       "      <td>0.998723</td>\n",
       "    </tr>\n",
       "    <tr>\n",
       "      <th>18</th>\n",
       "      <td>s</td>\n",
       "      <td>2346</td>\n",
       "      <td>98981</td>\n",
       "      <td>5.0</td>\n",
       "      <td>0.060893</td>\n",
       "      <td>0.440620</td>\n",
       "      <td>0.998298</td>\n",
       "    </tr>\n",
       "  </tbody>\n",
       "</table>\n",
       "</div>"
      ],
      "text/plain": [
       "   word  appears_in   count  rank  pct_total  cul_pct_total  appears_in_pct\n",
       "8              2346  229405   1.0   0.141129       0.141129        0.998298\n",
       "3     e        2350  169514   2.0   0.104284       0.245414        1.000000\n",
       "11    a        2350  110298   3.0   0.067855       0.313269        1.000000\n",
       "20    i        2347  108028   4.0   0.066458       0.379727        0.998723\n",
       "18    s        2346   98981   5.0   0.060893       0.440620        0.998298"
      ]
     },
     "execution_count": 229,
     "metadata": {},
     "output_type": "execute_result"
    }
   ],
   "source": [
    "wc = count(df['tokens'])\n",
    "wc.head()"
   ]
  },
  {
   "cell_type": "code",
   "execution_count": 230,
   "metadata": {},
   "outputs": [
    {
     "data": {
      "text/plain": [
       "<matplotlib.axes._subplots.AxesSubplot at 0x1036407828>"
      ]
     },
     "execution_count": 230,
     "metadata": {},
     "output_type": "execute_result"
    },
    {
     "data": {
      "image/png": "[encoded data removed]",
      "text/plain": [
       "<Figure size 432x288 with 1 Axes>"
      ]
     },
     "metadata": {
      "needs_background": "light"
     },
     "output_type": "display_data"
    }
   ],
   "source": [
    "# cumlative distribution plot\n",
    "sns.lineplot(x='rank', y='cul_pct_total', data=wc)"
   ]
  },
  {
   "cell_type": "code",
   "execution_count": 231,
   "metadata": {},
   "outputs": [
    {
     "data": {
      "image/png": "[encoded data removed]",
      "text/plain": [
       "<Figure size 432x288 with 1 Axes>"
      ]
     },
     "metadata": {
      "needs_background": "light"
     },
     "output_type": "display_data"
    }
   ],
   "source": [
    "# Frequency of apperances\n",
    "sns.distplot(wc['appears_in_pct'])\n",
    "plt.show()"
   ]
  }
 ],
 "metadata": {
  "kernelspec": {
   "display_name": "U4S1DS10 (Python 3.7)",
   "language": "python",
   "name": "u4-s1-nlp-ds10"
  },
  "language_info": {
   "codemirror_mode": {
    "name": "ipython",
    "version": 3
   },
   "file_extension": ".py",
   "mimetype": "text/x-python",
   "name": "python",
   "nbconvert_exporter": "python",
   "pygments_lexer": "ipython3",
   "version": "3.7.0"
  }
 },
 "nbformat": 4,
 "nbformat_minor": 4
}
