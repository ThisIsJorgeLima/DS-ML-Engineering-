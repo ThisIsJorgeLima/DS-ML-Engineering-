{
 "cells": [
  {
   "cell_type": "code",
   "execution_count": 46,
   "metadata": {},
   "outputs": [],
   "source": [
    "\"\"\"\n",
    "Import Statements\n",
    "\"\"\"\n",
    "\n",
    "# Classics\n",
    "import pandas as pd\n",
    "import numpy as np\n",
    "import seaborn as sns\n",
    "import matplotlib.pyplot as plt\n",
    "\n",
    "# Base\n",
    "import re\n",
    "import os\n",
    "import gensim\n",
    "from collections import Counter\n",
    "\n",
    "# CountVectorizer\n",
    "from sklearn.neighbors import NearestNeighbors\n",
    "from sklearn.feature_extraction.text import CountVectorizer, TfidfVectorizer\n",
    "\n",
    "# Classification\n",
    "from sklearn.pipeline import Pipeline\n",
    "from sklearn.model_selection import GridSearchCV\n",
    "\n",
    "# NLP Libraries\n",
    "import spacy\n",
    "from nltk.stem import PorterStemmer\n",
    "from spacy.tokenizer import Tokenizer\n",
    "\n",
    "# Pipeline\n",
    "from sklearn.model_selection import RandomizedSearchCV\n",
    "from sklearn.ensemble import GradientBoostingClassifier\n",
    "from scipy.stats import randint\n",
    "from sklearn.ensemble import RandomForestClassifier\n",
    "from sklearn.pipeline import Pipeline\n",
    "\n",
    "\n",
    "# Topic Modeling\n",
    "from gensim import corpora\n",
    "from gensim.utils import simple_preprocess\n",
    "from gensim.parsing.preprocessing import STOPWORDS\n",
    "from gensim.models.ldamulticore import LdaMulticore\n",
    "\n",
    "# Topic Distance Visualiztion\n",
    "import pyLDAvis.gensim\n",
    "\n",
    "nlp = spacy.load(\"en_core_web_lg\")"
   ]
  },
  {
   "cell_type": "code",
   "execution_count": 47,
   "metadata": {},
   "outputs": [
    {
     "data": {
      "text/plain": [
       "'/Users/jorge/Med-Cabinet-2/Data'"
      ]
     },
     "execution_count": 47,
     "metadata": {},
     "output_type": "execute_result"
    }
   ],
   "source": [
    "pwd"
   ]
  },
  {
   "cell_type": "code",
   "execution_count": 48,
   "metadata": {},
   "outputs": [
    {
     "name": "stdout",
     "output_type": "stream",
     "text": [
      "cannabis.csv   medcab.csv     medcab1_2.csv\n"
     ]
    }
   ],
   "source": [
    "ls"
   ]
  },
  {
   "cell_type": "code",
   "execution_count": 50,
   "metadata": {},
   "outputs": [
    {
     "data": {
      "text/html": [
       "<div>\n",
       "<style scoped>\n",
       "    .dataframe tbody tr th:only-of-type {\n",
       "        vertical-align: middle;\n",
       "    }\n",
       "\n",
       "    .dataframe tbody tr th {\n",
       "        vertical-align: top;\n",
       "    }\n",
       "\n",
       "    .dataframe thead th {\n",
       "        text-align: right;\n",
       "    }\n",
       "</style>\n",
       "<table border=\"1\" class=\"dataframe\">\n",
       "  <thead>\n",
       "    <tr style=\"text-align: right;\">\n",
       "      <th></th>\n",
       "      <th>Strain</th>\n",
       "      <th>Type</th>\n",
       "      <th>Rating</th>\n",
       "      <th>Effects</th>\n",
       "      <th>Flavor</th>\n",
       "      <th>Description</th>\n",
       "    </tr>\n",
       "  </thead>\n",
       "  <tbody>\n",
       "    <tr>\n",
       "      <th>0</th>\n",
       "      <td>100-Og</td>\n",
       "      <td>hybrid</td>\n",
       "      <td>4.0</td>\n",
       "      <td>Creative,Energetic,Tingly,Euphoric,Relaxed</td>\n",
       "      <td>Earthy,Sweet,Citrus</td>\n",
       "      <td>$100 OG is a 50/50 hybrid strain that packs a ...</td>\n",
       "    </tr>\n",
       "    <tr>\n",
       "      <th>1</th>\n",
       "      <td>98-White-Widow</td>\n",
       "      <td>hybrid</td>\n",
       "      <td>4.7</td>\n",
       "      <td>Relaxed,Aroused,Creative,Happy,Energetic</td>\n",
       "      <td>Flowery,Violet,Diesel</td>\n",
       "      <td>The ‘98 Aloha White Widow is an especially pot...</td>\n",
       "    </tr>\n",
       "  </tbody>\n",
       "</table>\n",
       "</div>"
      ],
      "text/plain": [
       "           Strain    Type  Rating                                     Effects  \\\n",
       "0          100-Og  hybrid     4.0  Creative,Energetic,Tingly,Euphoric,Relaxed   \n",
       "1  98-White-Widow  hybrid     4.7    Relaxed,Aroused,Creative,Happy,Energetic   \n",
       "\n",
       "                  Flavor                                        Description  \n",
       "0    Earthy,Sweet,Citrus  $100 OG is a 50/50 hybrid strain that packs a ...  \n",
       "1  Flowery,Violet,Diesel  The ‘98 Aloha White Widow is an especially pot...  "
      ]
     },
     "execution_count": 50,
     "metadata": {},
     "output_type": "execute_result"
    }
   ],
   "source": [
    "df = pd.read_csv('/Users/jorge/Med-Cabinet-2/Data/cannabis.csv')\n",
    "df.head(2)"
   ]
  },
  {
   "cell_type": "code",
   "execution_count": 51,
   "metadata": {},
   "outputs": [
    {
     "data": {
      "text/plain": [
       "(2162, 6)"
      ]
     },
     "execution_count": 51,
     "metadata": {},
     "output_type": "execute_result"
    }
   ],
   "source": [
    "good_stuff = df[df['Rating'] >= 4.0]\n",
    "good_stuff.shape"
   ]
  },
  {
   "cell_type": "code",
   "execution_count": 52,
   "metadata": {},
   "outputs": [],
   "source": [
    "# replace blank flavor with \"\"\n",
    "good_stuff = df.replace(np.nan, '', regex=True)"
   ]
  },
  {
   "cell_type": "code",
   "execution_count": 53,
   "metadata": {},
   "outputs": [],
   "source": [
    "def clean_string(strng):\n",
    "    s = strng.replace(\",\",\" \") # comma-> space\n",
    "    s = s.replace(\"(\",\" \") # (-> space\n",
    "    s = s.replace(\")\",\" \") # (-> space\n",
    "    s = s.lower()\n",
    "    return s"
   ]
  },
  {
   "cell_type": "code",
   "execution_count": 56,
   "metadata": {},
   "outputs": [],
   "source": [
    "# cols = good_stuff.columns\n",
    "cols = ['Type', 'Effects', 'Flavor', 'Description']\n",
    "\n",
    "for col in cols:\n",
    "    good_stuff[col] =good_stuff[col].apply(clean_string)\n",
    "\n",
    "good_stuff['text'] = good_stuff['Type'] + \" \" + good_stuff['Effects'] + \" \" + good_stuff['Flavor']"
   ]
  },
  {
   "cell_type": "code",
   "execution_count": 60,
   "metadata": {},
   "outputs": [
    {
     "data": {
      "text/html": [
       "<div>\n",
       "<style scoped>\n",
       "    .dataframe tbody tr th:only-of-type {\n",
       "        vertical-align: middle;\n",
       "    }\n",
       "\n",
       "    .dataframe tbody tr th {\n",
       "        vertical-align: top;\n",
       "    }\n",
       "\n",
       "    .dataframe thead th {\n",
       "        text-align: right;\n",
       "    }\n",
       "</style>\n",
       "<table border=\"1\" class=\"dataframe\">\n",
       "  <thead>\n",
       "    <tr style=\"text-align: right;\">\n",
       "      <th></th>\n",
       "      <th>Strain</th>\n",
       "      <th>Type</th>\n",
       "      <th>Rating</th>\n",
       "      <th>Effects</th>\n",
       "      <th>Flavor</th>\n",
       "      <th>Description</th>\n",
       "      <th>text</th>\n",
       "    </tr>\n",
       "  </thead>\n",
       "  <tbody>\n",
       "    <tr>\n",
       "      <th>0</th>\n",
       "      <td>100-Og</td>\n",
       "      <td>hybrid</td>\n",
       "      <td>4.0</td>\n",
       "      <td>creative energetic tingly euphoric relaxed</td>\n",
       "      <td>earthy sweet citrus</td>\n",
       "      <td>$100 og is a 50/50 hybrid strain that packs a ...</td>\n",
       "      <td>hybrid creative energetic tingly euphoric rela...</td>\n",
       "    </tr>\n",
       "    <tr>\n",
       "      <th>1</th>\n",
       "      <td>98-White-Widow</td>\n",
       "      <td>hybrid</td>\n",
       "      <td>4.7</td>\n",
       "      <td>relaxed aroused creative happy energetic</td>\n",
       "      <td>flowery violet diesel</td>\n",
       "      <td>the ‘98 aloha white widow is an especially pot...</td>\n",
       "      <td>hybrid relaxed aroused creative happy energeti...</td>\n",
       "    </tr>\n",
       "    <tr>\n",
       "      <th>2</th>\n",
       "      <td>1024</td>\n",
       "      <td>sativa</td>\n",
       "      <td>4.4</td>\n",
       "      <td>uplifted happy relaxed energetic creative</td>\n",
       "      <td>spicy/herbal sage woody</td>\n",
       "      <td>1024 is a sativa-dominant hybrid bred in spain...</td>\n",
       "      <td>sativa uplifted happy relaxed energetic creati...</td>\n",
       "    </tr>\n",
       "    <tr>\n",
       "      <th>3</th>\n",
       "      <td>13-Dawgs</td>\n",
       "      <td>hybrid</td>\n",
       "      <td>4.2</td>\n",
       "      <td>tingly creative hungry relaxed uplifted</td>\n",
       "      <td>apricot citrus grapefruit</td>\n",
       "      <td>13 dawgs is a hybrid of g13 and chemdawg genet...</td>\n",
       "      <td>hybrid tingly creative hungry relaxed uplifted...</td>\n",
       "    </tr>\n",
       "    <tr>\n",
       "      <th>4</th>\n",
       "      <td>24K-Gold</td>\n",
       "      <td>hybrid</td>\n",
       "      <td>4.6</td>\n",
       "      <td>happy relaxed euphoric uplifted talkative</td>\n",
       "      <td>citrus earthy orange</td>\n",
       "      <td>also known as kosher tangie  24k gold is a 60%...</td>\n",
       "      <td>hybrid happy relaxed euphoric uplifted talkati...</td>\n",
       "    </tr>\n",
       "  </tbody>\n",
       "</table>\n",
       "</div>"
      ],
      "text/plain": [
       "           Strain    Type  Rating                                     Effects  \\\n",
       "0          100-Og  hybrid     4.0  creative energetic tingly euphoric relaxed   \n",
       "1  98-White-Widow  hybrid     4.7    relaxed aroused creative happy energetic   \n",
       "2            1024  sativa     4.4   uplifted happy relaxed energetic creative   \n",
       "3        13-Dawgs  hybrid     4.2     tingly creative hungry relaxed uplifted   \n",
       "4        24K-Gold  hybrid     4.6   happy relaxed euphoric uplifted talkative   \n",
       "\n",
       "                      Flavor  \\\n",
       "0        earthy sweet citrus   \n",
       "1      flowery violet diesel   \n",
       "2    spicy/herbal sage woody   \n",
       "3  apricot citrus grapefruit   \n",
       "4       citrus earthy orange   \n",
       "\n",
       "                                         Description  \\\n",
       "0  $100 og is a 50/50 hybrid strain that packs a ...   \n",
       "1  the ‘98 aloha white widow is an especially pot...   \n",
       "2  1024 is a sativa-dominant hybrid bred in spain...   \n",
       "3  13 dawgs is a hybrid of g13 and chemdawg genet...   \n",
       "4  also known as kosher tangie  24k gold is a 60%...   \n",
       "\n",
       "                                                text  \n",
       "0  hybrid creative energetic tingly euphoric rela...  \n",
       "1  hybrid relaxed aroused creative happy energeti...  \n",
       "2  sativa uplifted happy relaxed energetic creati...  \n",
       "3  hybrid tingly creative hungry relaxed uplifted...  \n",
       "4  hybrid happy relaxed euphoric uplifted talkati...  "
      ]
     },
     "execution_count": 60,
     "metadata": {},
     "output_type": "execute_result"
    }
   ],
   "source": [
    "good_stuff.head()"
   ]
  },
  {
   "cell_type": "markdown",
   "metadata": {},
   "source": [
    "## Tokenize Function:\n",
    "<a id=\"#p1\"></a>"
   ]
  },
  {
   "cell_type": "code",
   "execution_count": 63,
   "metadata": {},
   "outputs": [],
   "source": [
    "#Tokenizer Pipe\n",
    "\n",
    "tokens = []\n",
    "\n",
    "# Make the tokens\n",
    "for doc in nlp.pipe(good_stuff['text'], disable=['tagger', 'parser', 'ner']):\n",
    "    \n",
    "    doc_tokens = []\n",
    "    \n",
    "    for token in doc:\n",
    "        if (token.is_stop==False) & (token.is_punct==False):\n",
    "           doc_tokens.append(token.text)\n",
    "   \n",
    "    tokens.append(doc_tokens)\n",
    "    \n",
    "good_stuff['tokens'] = tokens"
   ]
  },
  {
   "cell_type": "markdown",
   "metadata": {},
   "source": [
    "## Text Preprocessing"
   ]
  },
  {
   "cell_type": "code",
   "execution_count": 64,
   "metadata": {},
   "outputs": [],
   "source": [
    " def tokenize(doc):\n",
    "    nlp_doc = nlp(doc.lower())\n",
    "    doc_tokens = [token.text for token in nlp_doc\n",
    "    if (token.is_stop==False) and (token.is_punct==False)\n",
    "    and token.pos_!=\"-PRON-\" and token.text != \" \"]\n",
    "    \n",
    "    return doc_tokens"
   ]
  },
  {
   "cell_type": "code",
   "execution_count": 65,
   "metadata": {},
   "outputs": [
    {
     "data": {
      "text/plain": [
       "['hybrid',\n",
       " 'creative',\n",
       " 'energetic',\n",
       " 'tingly',\n",
       " 'euphoric',\n",
       " 'relaxed',\n",
       " 'earthy',\n",
       " 'sweet',\n",
       " 'citrus']"
      ]
     },
     "execution_count": 65,
     "metadata": {},
     "output_type": "execute_result"
    }
   ],
   "source": [
    "tokenize(good_stuff['text'][0])"
   ]
  },
  {
   "cell_type": "code",
   "execution_count": 66,
   "metadata": {},
   "outputs": [
    {
     "data": {
      "text/plain": [
       "'this is a sample string with a  newline character'"
      ]
     },
     "execution_count": 66,
     "metadata": {},
     "output_type": "execute_result"
    }
   ],
   "source": [
    "\"this is a sample string with a \\n newline character\".replace('\\n', '')"
   ]
  },
  {
   "cell_type": "code",
   "execution_count": 67,
   "metadata": {},
   "outputs": [
    {
     "data": {
      "text/plain": [
       "0    [hybrid, creative, energetic, tingly, euphoric...\n",
       "1    [hybrid, relaxed, aroused, creative, happy, en...\n",
       "2    [sativa, uplifted, happy, relaxed, energetic, ...\n",
       "3    [hybrid, tingly, creative, hungry, relaxed, up...\n",
       "4    [hybrid, happy, relaxed, euphoric, uplifted, t...\n",
       "Name: tokens, dtype: object"
      ]
     },
     "execution_count": 67,
     "metadata": {},
     "output_type": "execute_result"
    }
   ],
   "source": [
    "# Lets apply the above and creat our series of tokenized texts:\n",
    "good_stuff['tokens'] = good_stuff['text'].apply(lambda x: tokenize(x))\n",
    "good_stuff['tokens'].head()"
   ]
  },
  {
   "cell_type": "code",
   "execution_count": 73,
   "metadata": {},
   "outputs": [],
   "source": [
    "STOPWORDS = set(STOPWORDS).union(set(['said', 'mr', 'mrs']))\n",
    "\n",
    "def tokenize(text):\n",
    "    return [token for token in simple_preprocess(text) if token not in STOPWORDS]"
   ]
  },
  {
   "cell_type": "code",
   "execution_count": 74,
   "metadata": {},
   "outputs": [
    {
     "data": {
      "text/plain": [
       "['hello', 'world', 'test', 'tokenization', 'method']"
      ]
     },
     "execution_count": 74,
     "metadata": {},
     "output_type": "execute_result"
    }
   ],
   "source": [
    "tokenize(\"Hello World! This a test of the tokenization method\")"
   ]
  },
  {
   "cell_type": "code",
   "execution_count": 75,
   "metadata": {},
   "outputs": [
    {
     "data": {
      "text/plain": [
       "2351"
      ]
     },
     "execution_count": 75,
     "metadata": {},
     "output_type": "execute_result"
    }
   ],
   "source": [
    "len(tokens)"
   ]
  },
  {
   "cell_type": "code",
   "execution_count": 36,
   "metadata": {},
   "outputs": [],
   "source": [
    "tokenize(\"Hello World! This a test of the tokenization method\")"
   ]
  },
  {
   "cell_type": "code",
   "execution_count": 77,
   "metadata": {},
   "outputs": [
    {
     "data": {
      "text/plain": [
       "[('happy', 1871),\n",
       " ('relaxed', 1726),\n",
       " ('euphoric', 1635),\n",
       " ('uplifted', 1507),\n",
       " ('hybrid', 1212),\n",
       " ('earthy', 1105),\n",
       " ('sweet', 1053),\n",
       " ('creative', 747),\n",
       " ('sleepy', 738),\n",
       " ('indica', 699)]"
      ]
     },
     "execution_count": 77,
     "metadata": {},
     "output_type": "execute_result"
    }
   ],
   "source": [
    "# Object from Base Python\n",
    "from collections import Counter\n",
    "\n",
    "# The object `Counter` takes an iterable, but you can instaniate an empty one and update it. \n",
    "word_counts = Counter()\n",
    "\n",
    "# Update it based on a split of each of our documents\n",
    "good_stuff['tokens'].apply(lambda x: word_counts.update(x))\n",
    "\n",
    "# Print out the 10 most common words\n",
    "word_counts.most_common(10)"
   ]
  },
  {
   "cell_type": "markdown",
   "metadata": {},
   "source": [
    "### Vector Representation"
   ]
  },
  {
   "cell_type": "code",
   "execution_count": 78,
   "metadata": {},
   "outputs": [
    {
     "data": {
      "text/html": [
       "<div>\n",
       "<style scoped>\n",
       "    .dataframe tbody tr th:only-of-type {\n",
       "        vertical-align: middle;\n",
       "    }\n",
       "\n",
       "    .dataframe tbody tr th {\n",
       "        vertical-align: top;\n",
       "    }\n",
       "\n",
       "    .dataframe thead th {\n",
       "        text-align: right;\n",
       "    }\n",
       "</style>\n",
       "<table border=\"1\" class=\"dataframe\">\n",
       "  <thead>\n",
       "    <tr style=\"text-align: right;\">\n",
       "      <th></th>\n",
       "      <th>ammonia</th>\n",
       "      <th>apple</th>\n",
       "      <th>apricot</th>\n",
       "      <th>aroused</th>\n",
       "      <th>berry</th>\n",
       "      <th>blue</th>\n",
       "      <th>blueberry</th>\n",
       "      <th>butter</th>\n",
       "      <th>cheese</th>\n",
       "      <th>chemical</th>\n",
       "      <th>...</th>\n",
       "      <th>tar</th>\n",
       "      <th>tea</th>\n",
       "      <th>tingly</th>\n",
       "      <th>tobacco</th>\n",
       "      <th>tree</th>\n",
       "      <th>tropical</th>\n",
       "      <th>uplifted</th>\n",
       "      <th>vanilla</th>\n",
       "      <th>violet</th>\n",
       "      <th>woody</th>\n",
       "    </tr>\n",
       "  </thead>\n",
       "  <tbody>\n",
       "    <tr>\n",
       "      <th>0</th>\n",
       "      <td>0.0</td>\n",
       "      <td>0.0</td>\n",
       "      <td>0.000000</td>\n",
       "      <td>0.00000</td>\n",
       "      <td>0.0</td>\n",
       "      <td>0.0</td>\n",
       "      <td>0.0</td>\n",
       "      <td>0.0</td>\n",
       "      <td>0.0</td>\n",
       "      <td>0.0</td>\n",
       "      <td>...</td>\n",
       "      <td>0.0</td>\n",
       "      <td>0.0</td>\n",
       "      <td>0.477579</td>\n",
       "      <td>0.0</td>\n",
       "      <td>0.0</td>\n",
       "      <td>0.0</td>\n",
       "      <td>0.000000</td>\n",
       "      <td>0.0</td>\n",
       "      <td>0.000000</td>\n",
       "      <td>0.000000</td>\n",
       "    </tr>\n",
       "    <tr>\n",
       "      <th>1</th>\n",
       "      <td>0.0</td>\n",
       "      <td>0.0</td>\n",
       "      <td>0.000000</td>\n",
       "      <td>0.35866</td>\n",
       "      <td>0.0</td>\n",
       "      <td>0.0</td>\n",
       "      <td>0.0</td>\n",
       "      <td>0.0</td>\n",
       "      <td>0.0</td>\n",
       "      <td>0.0</td>\n",
       "      <td>...</td>\n",
       "      <td>0.0</td>\n",
       "      <td>0.0</td>\n",
       "      <td>0.000000</td>\n",
       "      <td>0.0</td>\n",
       "      <td>0.0</td>\n",
       "      <td>0.0</td>\n",
       "      <td>0.000000</td>\n",
       "      <td>0.0</td>\n",
       "      <td>0.691871</td>\n",
       "      <td>0.000000</td>\n",
       "    </tr>\n",
       "    <tr>\n",
       "      <th>2</th>\n",
       "      <td>0.0</td>\n",
       "      <td>0.0</td>\n",
       "      <td>0.000000</td>\n",
       "      <td>0.00000</td>\n",
       "      <td>0.0</td>\n",
       "      <td>0.0</td>\n",
       "      <td>0.0</td>\n",
       "      <td>0.0</td>\n",
       "      <td>0.0</td>\n",
       "      <td>0.0</td>\n",
       "      <td>...</td>\n",
       "      <td>0.0</td>\n",
       "      <td>0.0</td>\n",
       "      <td>0.000000</td>\n",
       "      <td>0.0</td>\n",
       "      <td>0.0</td>\n",
       "      <td>0.0</td>\n",
       "      <td>0.160800</td>\n",
       "      <td>0.0</td>\n",
       "      <td>0.000000</td>\n",
       "      <td>0.358211</td>\n",
       "    </tr>\n",
       "    <tr>\n",
       "      <th>3</th>\n",
       "      <td>0.0</td>\n",
       "      <td>0.0</td>\n",
       "      <td>0.645008</td>\n",
       "      <td>0.00000</td>\n",
       "      <td>0.0</td>\n",
       "      <td>0.0</td>\n",
       "      <td>0.0</td>\n",
       "      <td>0.0</td>\n",
       "      <td>0.0</td>\n",
       "      <td>0.0</td>\n",
       "      <td>...</td>\n",
       "      <td>0.0</td>\n",
       "      <td>0.0</td>\n",
       "      <td>0.290903</td>\n",
       "      <td>0.0</td>\n",
       "      <td>0.0</td>\n",
       "      <td>0.0</td>\n",
       "      <td>0.144217</td>\n",
       "      <td>0.0</td>\n",
       "      <td>0.000000</td>\n",
       "      <td>0.000000</td>\n",
       "    </tr>\n",
       "    <tr>\n",
       "      <th>4</th>\n",
       "      <td>0.0</td>\n",
       "      <td>0.0</td>\n",
       "      <td>0.000000</td>\n",
       "      <td>0.00000</td>\n",
       "      <td>0.0</td>\n",
       "      <td>0.0</td>\n",
       "      <td>0.0</td>\n",
       "      <td>0.0</td>\n",
       "      <td>0.0</td>\n",
       "      <td>0.0</td>\n",
       "      <td>...</td>\n",
       "      <td>0.0</td>\n",
       "      <td>0.0</td>\n",
       "      <td>0.000000</td>\n",
       "      <td>0.0</td>\n",
       "      <td>0.0</td>\n",
       "      <td>0.0</td>\n",
       "      <td>0.210917</td>\n",
       "      <td>0.0</td>\n",
       "      <td>0.000000</td>\n",
       "      <td>0.000000</td>\n",
       "    </tr>\n",
       "  </tbody>\n",
       "</table>\n",
       "<p>5 rows × 65 columns</p>\n",
       "</div>"
      ],
      "text/plain": [
       "   ammonia  apple   apricot  aroused  berry  blue  blueberry  butter  cheese  \\\n",
       "0      0.0    0.0  0.000000  0.00000    0.0   0.0        0.0     0.0     0.0   \n",
       "1      0.0    0.0  0.000000  0.35866    0.0   0.0        0.0     0.0     0.0   \n",
       "2      0.0    0.0  0.000000  0.00000    0.0   0.0        0.0     0.0     0.0   \n",
       "3      0.0    0.0  0.645008  0.00000    0.0   0.0        0.0     0.0     0.0   \n",
       "4      0.0    0.0  0.000000  0.00000    0.0   0.0        0.0     0.0     0.0   \n",
       "\n",
       "   chemical  ...  tar  tea    tingly  tobacco  tree  tropical  uplifted  \\\n",
       "0       0.0  ...  0.0  0.0  0.477579      0.0   0.0       0.0  0.000000   \n",
       "1       0.0  ...  0.0  0.0  0.000000      0.0   0.0       0.0  0.000000   \n",
       "2       0.0  ...  0.0  0.0  0.000000      0.0   0.0       0.0  0.160800   \n",
       "3       0.0  ...  0.0  0.0  0.290903      0.0   0.0       0.0  0.144217   \n",
       "4       0.0  ...  0.0  0.0  0.000000      0.0   0.0       0.0  0.210917   \n",
       "\n",
       "   vanilla    violet     woody  \n",
       "0      0.0  0.000000  0.000000  \n",
       "1      0.0  0.691871  0.000000  \n",
       "2      0.0  0.000000  0.358211  \n",
       "3      0.0  0.000000  0.000000  \n",
       "4      0.0  0.000000  0.000000  \n",
       "\n",
       "[5 rows x 65 columns]"
      ]
     },
     "execution_count": 78,
     "metadata": {},
     "output_type": "execute_result"
    }
   ],
   "source": [
    "# instantiate vectorizer object:\n",
    "tfidf = TfidfVectorizer(max_df=.97,\n",
    "                        min_df=3,\n",
    "                        stop_words='english')\n",
    "\n",
    "# create a vocabulary and get word counts per document:\n",
    "dtm_tfidf = tfidf.fit_transform(good_stuff['text'])\n",
    "\n",
    "# print word counts\n",
    "\n",
    "# get feature names to use as dataframe column headers:\n",
    "tf_good_stuff = pd.DataFrame(dtm_tfidf.todense(), columns=tfidf.get_feature_names())\n",
    "\n",
    "# view Feature Matrix as DataFrame:\n",
    "tf_good_stuff.head()"
   ]
  },
  {
   "cell_type": "code",
   "execution_count": 80,
   "metadata": {},
   "outputs": [
    {
     "data": {
      "text/plain": [
       "NearestNeighbors(algorithm='kd_tree', leaf_size=30, metric='minkowski',\n",
       "         metric_params=None, n_jobs=None, n_neighbors=5, p=2, radius=1.0)"
      ]
     },
     "execution_count": 80,
     "metadata": {},
     "output_type": "execute_result"
    }
   ],
   "source": [
    "# fit on dtm_tfidf:\n",
    "nn = NearestNeighbors(n_neighbors=5, algorithm='kd_tree')\n",
    "nn.fit(tf_good_stuff)"
   ]
  },
  {
   "cell_type": "code",
   "execution_count": 81,
   "metadata": {},
   "outputs": [
    {
     "data": {
      "text/plain": [
       "(array([[0.        , 0.67125039, 0.68429225, 0.69605859, 0.70552725]]),\n",
       " array([[   0,   81, 1286,  429, 1143]]))"
      ]
     },
     "execution_count": 81,
     "metadata": {},
     "output_type": "execute_result"
    }
   ],
   "source": [
    "nn.kneighbors([tf_good_stuff.iloc[0]])"
   ]
  },
  {
   "cell_type": "code",
   "execution_count": 83,
   "metadata": {},
   "outputs": [
    {
     "data": {
      "text/plain": [
       "0    hybrid creative energetic tingly euphoric rela...\n",
       "1    hybrid relaxed aroused creative happy energeti...\n",
       "2    sativa uplifted happy relaxed energetic creati...\n",
       "3    hybrid tingly creative hungry relaxed uplifted...\n",
       "4    hybrid happy relaxed euphoric uplifted talkati...\n",
       "5                                     indica none none\n",
       "6    hybrid relaxed euphoric happy uplifted hungry ...\n",
       "7    indica relaxed happy euphoric uplifted giggly ...\n",
       "8    sativa uplifted focused happy talkative relaxe...\n",
       "9    indica relaxed tingly happy euphoric uplifted ...\n",
       "Name: text, dtype: object"
      ]
     },
     "execution_count": 83,
     "metadata": {},
     "output_type": "execute_result"
    }
   ],
   "source": [
    "good_stuff['text'][:10]"
   ]
  },
  {
   "cell_type": "code",
   "execution_count": 87,
   "metadata": {},
   "outputs": [],
   "source": [
    "import re, string\n",
    "\n",
    "def punct_cleaning(column):\n",
    "    processed_data = []\n",
    "    for i in column:\n",
    "        text = re.sub('[%s]' % string.punctuation, '', i).lower()\n",
    "        processed_data.append(text)\n",
    "    return pd.DataFrame(processed_data)"
   ]
  },
  {
   "cell_type": "code",
   "execution_count": 88,
   "metadata": {},
   "outputs": [
    {
     "data": {
      "text/plain": [
       "'hybrid energetic happy talkative uplifted pine diesel'"
      ]
     },
     "execution_count": 88,
     "metadata": {},
     "output_type": "execute_result"
    }
   ],
   "source": [
    "good_stuff['text'] = punct_cleaning(good_stuff['text'])\n",
    "good_stuff['text'][10]"
   ]
  },
  {
   "cell_type": "code",
   "execution_count": 89,
   "metadata": {},
   "outputs": [],
   "source": [
    "text = ['hybrid energetic happy talkative uplifted pine diesel']"
   ]
  },
  {
   "cell_type": "code",
   "execution_count": 90,
   "metadata": {},
   "outputs": [],
   "source": [
    "good_stuff_text = tfidf.transform(text)"
   ]
  },
  {
   "cell_type": "code",
   "execution_count": 91,
   "metadata": {},
   "outputs": [
    {
     "data": {
      "text/plain": [
       "(array([[0.        , 0.33640584, 0.67665231, 0.69700992, 0.73110367]]),\n",
       " array([[  10,   76,  493, 2027, 1506]]))"
      ]
     },
     "execution_count": 91,
     "metadata": {},
     "output_type": "execute_result"
    }
   ],
   "source": [
    "nn.kneighbors(good_stuff_text.todense())"
   ]
  },
  {
   "cell_type": "code",
   "execution_count": 93,
   "metadata": {},
   "outputs": [
    {
     "name": "stdout",
     "output_type": "stream",
     "text": [
      "hybrid energetic happy talkative uplifted pine diesel\n",
      "\n",
      "\n",
      "hybrid happy talkative euphoric uplifted energetic pine diesel earthy\n",
      "\n",
      "\n",
      "hybrid uplifted happy euphoric relaxed energetic diesel pine pungent\n",
      "\n",
      "\n",
      "hybrid relaxed happy uplifted energetic talkative earthy pine sweet\n",
      "\n",
      "\n",
      "hybrid euphoric energetic creative relaxed happy earthy pine diesel\n",
      "\n",
      "\n"
     ]
    }
   ],
   "source": [
    "for num in [  10,   76,  493, 2027, 1506]:\n",
    "    print(good_stuff['text'][num])\n",
    "    print('\\n')"
   ]
  },
  {
   "cell_type": "markdown",
   "metadata": {},
   "source": [
    "### Classification"
   ]
  },
  {
   "cell_type": "code",
   "execution_count": 94,
   "metadata": {},
   "outputs": [
    {
     "data": {
      "text/plain": [
       "Strain          object\n",
       "Type            object\n",
       "Rating         float64\n",
       "Effects         object\n",
       "Flavor          object\n",
       "Description     object\n",
       "text            object\n",
       "tokens          object\n",
       "dtype: object"
      ]
     },
     "execution_count": 94,
     "metadata": {},
     "output_type": "execute_result"
    }
   ],
   "source": [
    "good_stuff.dtypes"
   ]
  },
  {
   "cell_type": "code",
   "execution_count": 95,
   "metadata": {},
   "outputs": [],
   "source": [
    "doc = nlp(\"Two bananas in pyjamas\")"
   ]
  },
  {
   "cell_type": "code",
   "execution_count": 96,
   "metadata": {},
   "outputs": [
    {
     "name": "stdout",
     "output_type": "stream",
     "text": [
      "300\n"
     ]
    }
   ],
   "source": [
    "bananas_vector = doc.vector\n",
    "print(len(bananas_vector))"
   ]
  },
  {
   "cell_type": "code",
   "execution_count": 97,
   "metadata": {},
   "outputs": [],
   "source": [
    "def get_word_vectors(docs):\n",
    "    return [nlp(doc).vector for doc in docs]"
   ]
  },
  {
   "cell_type": "code",
   "execution_count": 99,
   "metadata": {},
   "outputs": [],
   "source": [
    "# Apply to your Dataset\n",
    "\n",
    "param_dist = {\n",
    "    \n",
    "    'max_depth' : randint(3,10),\n",
    "    'min_samples_leaf': randint(2,15)\n",
    "}"
   ]
  },
  {
   "cell_type": "code",
   "execution_count": 104,
   "metadata": {},
   "outputs": [],
   "source": [
    "# Create Pipeline Components\n",
    "\n",
    "vect = TfidfVectorizer(stop_words='english', ngram_range=(1,2))\n",
    "rfc = RandomForestClassifier()\n",
    "\n",
    "# Define the Pipeline\n",
    "pipe = Pipeline([\n",
    "                 #Vectorizer\n",
    "                 ('vect', vect),\n",
    "                 # Classifier\n",
    "                 ('clf', rfc)\n",
    "                ])\n",
    "\n",
    "# The pipeline puts together a bunch fit then transform,fit then predict. "
   ]
  },
  {
   "cell_type": "code",
   "execution_count": 114,
   "metadata": {},
   "outputs": [],
   "source": [
    "parameters = {\n",
    "    'vect__max_df': ( 0.75, 1.0),\n",
    "    'vect__min_df': (.02, .05),\n",
    "    'vect__max_features': (500,1000),\n",
    "    'clf__n_estimators':(5, 10,),\n",
    "    'clf__max_depth':(15,20)\n",
    "}\n",
    "\n",
    "grid_search = GridSearchCV(pipe,parameters, cv=5, n_jobs=-1, verbose=1)"
   ]
  },
  {
   "cell_type": "code",
   "execution_count": 134,
   "metadata": {},
   "outputs": [],
   "source": [
    "# grid_search.fit(good_stuff['text'], good_stuff['Rating'])"
   ]
  },
  {
   "cell_type": "markdown",
   "metadata": {},
   "source": [
    "###  Topic Modeling"
   ]
  },
  {
   "cell_type": "code",
   "execution_count": 121,
   "metadata": {},
   "outputs": [],
   "source": [
    "from gensim.models import LdaMulticore\n",
    "from gensim.corpora import Dictionary"
   ]
  },
  {
   "cell_type": "code",
   "execution_count": 122,
   "metadata": {},
   "outputs": [
    {
     "data": {
      "text/plain": [
       "0    [hybrid, creative, energetic, tingly, euphoric...\n",
       "1    [hybrid, relaxed, aroused, creative, happy, en...\n",
       "2    [sativa, uplifted, happy, relaxed, energetic, ...\n",
       "3    [hybrid, tingly, creative, hungry, relaxed, up...\n",
       "4    [hybrid, happy, relaxed, euphoric, uplifted, t...\n",
       "Name: tokens, dtype: object"
      ]
     },
     "execution_count": 122,
     "metadata": {},
     "output_type": "execute_result"
    }
   ],
   "source": [
    "good_stuff['tokens'].head()"
   ]
  },
  {
   "cell_type": "markdown",
   "metadata": {},
   "source": [
    "### Learn the vocubalary of the good_stuff data:"
   ]
  },
  {
   "cell_type": "code",
   "execution_count": 123,
   "metadata": {},
   "outputs": [],
   "source": [
    "id2word = corpora.Dictionary(good_stuff['tokens'])"
   ]
  },
  {
   "cell_type": "code",
   "execution_count": 124,
   "metadata": {},
   "outputs": [],
   "source": [
    "corpus = [id2word.doc2bow(text)for text in good_stuff['tokens']]"
   ]
  },
  {
   "cell_type": "code",
   "execution_count": 133,
   "metadata": {},
   "outputs": [],
   "source": [
    "# lda = LdaMulticore(corpus=corpus,\n",
    "#                   id2word=id2word,\n",
    "#                   iterations=5,\n",
    "#                   workers=4,\n",
    "#                   num_topics = 10 # You can change this parameter\n",
    "#                  )"
   ]
  },
  {
   "cell_type": "code",
   "execution_count": 127,
   "metadata": {},
   "outputs": [
    {
     "data": {
      "text/plain": [
       "[(0,\n",
       "  '0.095*\"relaxed\" + 0.080*\"happy\" + 0.072*\"earthy\" + 0.063*\"uplifted\" + 0.059*\"indica\" + 0.058*\"euphoric\" + 0.047*\"sleepy\" + 0.041*\"hybrid\" + 0.037*\"creative\" + 0.030*\"energetic\"'),\n",
       " (1,\n",
       "  '0.077*\"relaxed\" + 0.075*\"earthy\" + 0.074*\"uplifted\" + 0.058*\"euphoric\" + 0.054*\"hybrid\" + 0.052*\"sleepy\" + 0.051*\"happy\" + 0.043*\"sweet\" + 0.042*\"focused\" + 0.041*\"hungry\"'),\n",
       " (2,\n",
       "  '0.118*\"happy\" + 0.100*\"relaxed\" + 0.078*\"uplifted\" + 0.071*\"euphoric\" + 0.067*\"sweet\" + 0.066*\"hybrid\" + 0.044*\"creative\" + 0.043*\"earthy\" + 0.035*\"sleepy\" + 0.029*\"tingly\"'),\n",
       " (3,\n",
       "  '0.107*\"happy\" + 0.091*\"relaxed\" + 0.091*\"euphoric\" + 0.076*\"earthy\" + 0.072*\"hybrid\" + 0.067*\"uplifted\" + 0.044*\"sleepy\" + 0.039*\"indica\" + 0.032*\"creative\" + 0.026*\"sweet\"'),\n",
       " (4,\n",
       "  '0.118*\"hybrid\" + 0.089*\"relaxed\" + 0.078*\"uplifted\" + 0.078*\"euphoric\" + 0.063*\"earthy\" + 0.058*\"sweet\" + 0.050*\"happy\" + 0.043*\"creative\" + 0.038*\"focused\" + 0.027*\"sleepy\"'),\n",
       " (5,\n",
       "  '0.120*\"euphoric\" + 0.074*\"uplifted\" + 0.072*\"relaxed\" + 0.069*\"happy\" + 0.047*\"hybrid\" + 0.043*\"indica\" + 0.043*\"creative\" + 0.042*\"sleepy\" + 0.038*\"earthy\" + 0.038*\"sweet\"'),\n",
       " (6,\n",
       "  '0.114*\"uplifted\" + 0.098*\"relaxed\" + 0.083*\"euphoric\" + 0.078*\"happy\" + 0.053*\"hybrid\" + 0.045*\"citrus\" + 0.043*\"earthy\" + 0.042*\"focused\" + 0.040*\"creative\" + 0.039*\"sweet\"'),\n",
       " (7,\n",
       "  '0.105*\"happy\" + 0.083*\"euphoric\" + 0.072*\"uplifted\" + 0.070*\"relaxed\" + 0.068*\"sweet\" + 0.043*\"sativa\" + 0.042*\"creative\" + 0.042*\"indica\" + 0.038*\"berry\" + 0.037*\"earthy\"'),\n",
       " (8,\n",
       "  '0.111*\"euphoric\" + 0.077*\"happy\" + 0.061*\"sweet\" + 0.058*\"relaxed\" + 0.054*\"hybrid\" + 0.051*\"indica\" + 0.045*\"citrus\" + 0.045*\"hungry\" + 0.041*\"talkative\" + 0.040*\"uplifted\"'),\n",
       " (9,\n",
       "  '0.122*\"happy\" + 0.085*\"uplifted\" + 0.083*\"relaxed\" + 0.069*\"euphoric\" + 0.068*\"sweet\" + 0.057*\"earthy\" + 0.057*\"hybrid\" + 0.046*\"energetic\" + 0.037*\"sativa\" + 0.032*\"focused\"')]"
      ]
     },
     "execution_count": 127,
     "metadata": {},
     "output_type": "execute_result"
    }
   ],
   "source": [
    "lda.print_topics()"
   ]
  },
  {
   "cell_type": "code",
   "execution_count": 128,
   "metadata": {},
   "outputs": [],
   "source": [
    "words = [re.findall(r'\"([^\"]*)\"',t[1]) for t in lda.print_topics()]"
   ]
  },
  {
   "cell_type": "code",
   "execution_count": 129,
   "metadata": {},
   "outputs": [],
   "source": [
    "topics = [' '.join(t[0:5]) for t in words]"
   ]
  },
  {
   "cell_type": "code",
   "execution_count": 130,
   "metadata": {},
   "outputs": [
    {
     "name": "stdout",
     "output_type": "stream",
     "text": [
      "------ Topic 0 ------\n",
      "relaxed happy earthy uplifted indica\n",
      "\n",
      "------ Topic 1 ------\n",
      "relaxed earthy uplifted euphoric hybrid\n",
      "\n",
      "------ Topic 2 ------\n",
      "happy relaxed uplifted euphoric sweet\n",
      "\n",
      "------ Topic 3 ------\n",
      "happy relaxed euphoric earthy hybrid\n",
      "\n",
      "------ Topic 4 ------\n",
      "hybrid relaxed uplifted euphoric earthy\n",
      "\n",
      "------ Topic 5 ------\n",
      "euphoric uplifted relaxed happy hybrid\n",
      "\n",
      "------ Topic 6 ------\n",
      "uplifted relaxed euphoric happy hybrid\n",
      "\n",
      "------ Topic 7 ------\n",
      "happy euphoric uplifted relaxed sweet\n",
      "\n",
      "------ Topic 8 ------\n",
      "euphoric happy sweet relaxed hybrid\n",
      "\n",
      "------ Topic 9 ------\n",
      "happy uplifted relaxed euphoric sweet\n",
      "\n"
     ]
    }
   ],
   "source": [
    "for id, t in enumerate(topics): \n",
    "    print(f\"------ Topic {id} ------\")\n",
    "    print(t, end=\"\\n\\n\")"
   ]
  },
  {
   "cell_type": "markdown",
   "metadata": {},
   "source": [
    "### Topic Distance Visualization"
   ]
  },
  {
   "cell_type": "code",
   "execution_count": 131,
   "metadata": {},
   "outputs": [],
   "source": [
    "pyLDAvis.enable_notebook()"
   ]
  },
  {
   "cell_type": "code",
   "execution_count": 132,
   "metadata": {},
   "outputs": [
    {
     "name": "stderr",
     "output_type": "stream",
     "text": [
      "/Users/jorge/opt/anaconda3/envs/U4-S1-NLP-DS10/lib/python3.7/site-packages/pyLDAvis/_prepare.py:257: FutureWarning: Sorting because non-concatenation axis is not aligned. A future version\n",
      "of pandas will change to not sort by default.\n",
      "\n",
      "To accept the future behavior, pass 'sort=False'.\n",
      "\n",
      "To retain the current behavior and silence the warning, pass 'sort=True'.\n",
      "\n",
      "  return pd.concat([default_term_info] + list(topic_dfs))\n"
     ]
    },
    {
     "data": {
      "text/html": [
       "\n",
       "<link rel=\"stylesheet\" type=\"text/css\" href=\"https://cdn.rawgit.com/bmabey/pyLDAvis/files/ldavis.v1.0.0.css\">\n",
       "\n",
       "\n",
       "<div id=\"ldavis_el36992699768951844844871611\"></div>\n",
       "<script type=\"text/javascript\">\n",
       "\n",
       "var ldavis_el36992699768951844844871611_data = {\"mdsDat\": {\"x\": [0.010641240392886702, -0.00046485978553145073, 0.004057564920277605, -0.021493783237643366, 0.0003656774355531918, 0.020390647264817735, 0.008764220963066022, 0.001334254537503439, -0.017384376334475204, -0.006210586156454678], \"y\": [-0.007602568340644977, 0.01428114797218952, 0.008270891690167587, 0.009320657038899767, -0.010424890068012912, 0.0005500493902774743, 0.01052732111391629, -0.011043146199813784, -0.007444499552985465, -0.00643496304399353], \"topics\": [1, 2, 3, 4, 5, 6, 7, 8, 9, 10], \"cluster\": [1, 1, 1, 1, 1, 1, 1, 1, 1, 1], \"Freq\": [11.214598655700684, 10.644262313842773, 10.57409381866455, 10.531641960144043, 10.415582656860352, 9.949835777282715, 9.580900192260742, 9.308624267578125, 8.903746604919434, 8.876712799072266]}, \"tinfo\": {\"Category\": [\"Default\", \"Default\", \"Default\", \"Default\", \"Default\", \"Default\", \"Default\", \"Default\", \"Default\", \"Default\", \"Default\", \"Default\", \"Default\", \"Default\", \"Default\", \"Default\", \"Default\", \"Default\", \"Default\", \"Default\", \"Default\", \"Default\", \"Default\", \"Default\", \"Default\", \"Default\", \"Default\", \"Default\", \"Default\", \"Default\", \"Topic1\", \"Topic1\", \"Topic1\", \"Topic1\", \"Topic1\", \"Topic1\", \"Topic1\", \"Topic1\", \"Topic1\", \"Topic1\", \"Topic1\", \"Topic1\", \"Topic1\", \"Topic1\", \"Topic1\", \"Topic1\", \"Topic1\", \"Topic1\", \"Topic1\", \"Topic1\", \"Topic1\", \"Topic1\", \"Topic1\", \"Topic1\", \"Topic1\", \"Topic1\", \"Topic1\", \"Topic1\", \"Topic1\", \"Topic1\", \"Topic1\", \"Topic1\", \"Topic1\", \"Topic1\", \"Topic1\", \"Topic1\", \"Topic1\", \"Topic1\", \"Topic1\", \"Topic1\", \"Topic1\", \"Topic1\", \"Topic1\", \"Topic1\", \"Topic2\", \"Topic2\", \"Topic2\", \"Topic2\", \"Topic2\", \"Topic2\", \"Topic2\", \"Topic2\", \"Topic2\", \"Topic2\", \"Topic2\", \"Topic2\", \"Topic2\", \"Topic2\", \"Topic2\", \"Topic2\", \"Topic2\", \"Topic2\", \"Topic2\", \"Topic2\", \"Topic2\", \"Topic2\", \"Topic2\", \"Topic2\", \"Topic2\", \"Topic2\", \"Topic2\", \"Topic2\", \"Topic2\", \"Topic2\", \"Topic2\", \"Topic2\", \"Topic2\", \"Topic2\", \"Topic2\", \"Topic2\", \"Topic2\", \"Topic2\", \"Topic2\", \"Topic2\", \"Topic2\", \"Topic2\", \"Topic2\", \"Topic2\", \"Topic3\", \"Topic3\", \"Topic3\", \"Topic3\", \"Topic3\", \"Topic3\", \"Topic3\", \"Topic3\", \"Topic3\", \"Topic3\", \"Topic3\", \"Topic3\", \"Topic3\", \"Topic3\", \"Topic3\", \"Topic3\", \"Topic3\", \"Topic3\", \"Topic3\", \"Topic3\", \"Topic3\", \"Topic3\", \"Topic3\", \"Topic3\", \"Topic3\", \"Topic3\", \"Topic3\", \"Topic3\", \"Topic3\", \"Topic3\", \"Topic3\", \"Topic3\", \"Topic3\", \"Topic3\", \"Topic3\", \"Topic3\", \"Topic3\", \"Topic3\", \"Topic3\", \"Topic3\", \"Topic3\", \"Topic3\", \"Topic3\", \"Topic3\", \"Topic3\", \"Topic3\", \"Topic3\", \"Topic3\", \"Topic3\", \"Topic4\", \"Topic4\", \"Topic4\", \"Topic4\", \"Topic4\", \"Topic4\", \"Topic4\", \"Topic4\", \"Topic4\", \"Topic4\", \"Topic4\", \"Topic4\", \"Topic4\", \"Topic4\", \"Topic4\", \"Topic4\", \"Topic4\", \"Topic4\", \"Topic4\", \"Topic4\", \"Topic4\", \"Topic4\", \"Topic4\", \"Topic4\", \"Topic4\", \"Topic4\", \"Topic4\", \"Topic4\", \"Topic4\", \"Topic4\", \"Topic4\", \"Topic4\", \"Topic4\", \"Topic4\", \"Topic4\", \"Topic4\", \"Topic4\", \"Topic4\", \"Topic4\", \"Topic4\", \"Topic4\", \"Topic4\", \"Topic4\", \"Topic4\", \"Topic4\", \"Topic4\", \"Topic5\", \"Topic5\", \"Topic5\", \"Topic5\", \"Topic5\", \"Topic5\", \"Topic5\", \"Topic5\", \"Topic5\", \"Topic5\", \"Topic5\", \"Topic5\", \"Topic5\", \"Topic5\", \"Topic5\", \"Topic5\", \"Topic5\", \"Topic5\", \"Topic5\", \"Topic5\", \"Topic5\", \"Topic5\", \"Topic5\", \"Topic5\", \"Topic5\", \"Topic5\", \"Topic5\", \"Topic5\", \"Topic5\", \"Topic5\", \"Topic5\", \"Topic5\", \"Topic5\", \"Topic5\", \"Topic5\", \"Topic5\", \"Topic5\", \"Topic5\", \"Topic5\", \"Topic5\", \"Topic5\", \"Topic5\", \"Topic5\", \"Topic5\", \"Topic5\", \"Topic5\", \"Topic5\", \"Topic6\", \"Topic6\", \"Topic6\", \"Topic6\", \"Topic6\", \"Topic6\", \"Topic6\", \"Topic6\", \"Topic6\", \"Topic6\", \"Topic6\", \"Topic6\", \"Topic6\", \"Topic6\", \"Topic6\", \"Topic6\", \"Topic6\", \"Topic6\", \"Topic6\", \"Topic6\", \"Topic6\", \"Topic6\", \"Topic6\", \"Topic6\", \"Topic6\", \"Topic6\", \"Topic6\", \"Topic6\", \"Topic6\", \"Topic6\", \"Topic6\", \"Topic6\", \"Topic6\", \"Topic6\", \"Topic6\", \"Topic6\", \"Topic6\", \"Topic6\", \"Topic6\", \"Topic6\", \"Topic6\", \"Topic6\", \"Topic6\", \"Topic6\", \"Topic6\", \"Topic7\", \"Topic7\", \"Topic7\", \"Topic7\", \"Topic7\", \"Topic7\", \"Topic7\", \"Topic7\", \"Topic7\", \"Topic7\", \"Topic7\", \"Topic7\", \"Topic7\", \"Topic7\", \"Topic7\", \"Topic7\", \"Topic7\", \"Topic7\", \"Topic7\", \"Topic7\", \"Topic7\", \"Topic7\", \"Topic7\", \"Topic7\", \"Topic7\", \"Topic7\", \"Topic7\", \"Topic7\", \"Topic7\", \"Topic7\", \"Topic7\", \"Topic7\", \"Topic7\", \"Topic7\", \"Topic7\", \"Topic7\", \"Topic7\", \"Topic7\", \"Topic7\", \"Topic7\", \"Topic7\", \"Topic7\", \"Topic7\", \"Topic7\", \"Topic7\", \"Topic7\", \"Topic7\", \"Topic7\", \"Topic7\", \"Topic8\", \"Topic8\", \"Topic8\", \"Topic8\", \"Topic8\", \"Topic8\", \"Topic8\", \"Topic8\", \"Topic8\", \"Topic8\", \"Topic8\", \"Topic8\", \"Topic8\", \"Topic8\", \"Topic8\", \"Topic8\", \"Topic8\", \"Topic8\", \"Topic8\", \"Topic8\", \"Topic8\", \"Topic8\", \"Topic8\", \"Topic8\", \"Topic8\", \"Topic8\", \"Topic8\", \"Topic8\", \"Topic8\", \"Topic8\", \"Topic8\", \"Topic8\", \"Topic8\", \"Topic8\", \"Topic8\", \"Topic8\", \"Topic8\", \"Topic8\", \"Topic8\", \"Topic8\", \"Topic8\", \"Topic8\", \"Topic8\", \"Topic8\", \"Topic8\", \"Topic8\", \"Topic8\", \"Topic8\", \"Topic9\", \"Topic9\", \"Topic9\", \"Topic9\", \"Topic9\", \"Topic9\", \"Topic9\", \"Topic9\", \"Topic9\", \"Topic9\", \"Topic9\", \"Topic9\", \"Topic9\", \"Topic9\", \"Topic9\", \"Topic9\", \"Topic9\", \"Topic9\", \"Topic9\", \"Topic9\", \"Topic9\", \"Topic9\", \"Topic9\", \"Topic9\", \"Topic9\", \"Topic9\", \"Topic9\", \"Topic9\", \"Topic9\", \"Topic9\", \"Topic9\", \"Topic9\", \"Topic9\", \"Topic9\", \"Topic9\", \"Topic9\", \"Topic9\", \"Topic9\", \"Topic9\", \"Topic9\", \"Topic9\", \"Topic9\", \"Topic9\", \"Topic9\", \"Topic10\", \"Topic10\", \"Topic10\", \"Topic10\", \"Topic10\", \"Topic10\", \"Topic10\", \"Topic10\", \"Topic10\", \"Topic10\", \"Topic10\", \"Topic10\", \"Topic10\", \"Topic10\", \"Topic10\", \"Topic10\", \"Topic10\", \"Topic10\", \"Topic10\", \"Topic10\", \"Topic10\", \"Topic10\", \"Topic10\", \"Topic10\", \"Topic10\", \"Topic10\", \"Topic10\", \"Topic10\", \"Topic10\", \"Topic10\", \"Topic10\", \"Topic10\", \"Topic10\", \"Topic10\", \"Topic10\", \"Topic10\", \"Topic10\", \"Topic10\", \"Topic10\", \"Topic10\", \"Topic10\", \"Topic10\", \"Topic10\", \"Topic10\", \"Topic10\", \"Topic10\", \"Topic10\", \"Topic10\"], \"Freq\": [1187.0, 470.0, 1653.0, 1005.0, 449.0, 1760.0, 735.0, 540.0, 1513.0, 376.0, 1105.0, 282.0, 366.0, 287.0, 723.0, 325.0, 607.0, 636.0, 241.0, 188.0, 1699.0, 202.0, 260.0, 747.0, 79.0, 470.0, 34.0, 246.0, 300.0, 145.0, 2.384394645690918, 56.98522186279297, 36.832183837890625, 6.96697473526001, 45.903873443603516, 21.654293060302734, 40.12666702270508, 48.22455978393555, 172.95257568359375, 1.6052300930023193, 2.324298858642578, 1.027393102645874, 26.642667770385742, 32.45448684692383, 241.8283233642578, 99.13681030273438, 162.35421752929688, 2.5477983951568604, 3.1546127796173096, 1.1987464427947998, 206.3877410888672, 206.72068786621094, 89.16230773925781, 4.938122749328613, 53.95436477661133, 152.69064331054688, 3.6022684574127197, 24.154335021972656, 0.3233898878097534, 0.40644028782844543, 72.84760284423828, 5.901364803314209, 53.20949935913086, 50.67206573486328, 39.77945327758789, 39.6523323059082, 28.225330352783203, 24.55477523803711, 59.34777069091797, 12.427263259887695, 15.664190292358398, 22.59960174560547, 17.441757202148438, 21.307518005371094, 3.546083450317383, 79.9239730834961, 9.74277400970459, 23.543628692626953, 6.479097843170166, 98.64910125732422, 262.3409729003906, 7.017969131469727, 146.28895568847656, 3.5026590824127197, 3.8244986534118652, 18.80141830444336, 3.668095111846924, 183.26332092285156, 42.8118782043457, 68.53608703613281, 4.530198097229004, 4.027378082275391, 1.1228952407836914, 122.18492126464844, 0.7940647006034851, 20.894569396972656, 51.39069747924805, 178.95419311523438, 3.6279780864715576, 6.932372093200684, 121.74608612060547, 23.570310592651367, 67.78804779052734, 3.4250833988189697, 149.6394500732422, 65.80809783935547, 20.662790298461914, 22.478830337524414, 31.161823272705078, 41.74512481689453, 24.1937313079834, 16.957151412963867, 46.8169059753418, 21.611536026000977, 18.32583236694336, 20.078584671020508, 20.362117767333984, 21.635112762451172, 5.592482566833496, 62.43675231933594, 6.931530475616455, 7.518414497375488, 6.262387752532959, 22.46273422241211, 9.692804336547852, 251.79769897460938, 143.00543212890625, 3.6321659088134766, 94.97461700439453, 214.71734619140625, 142.12673950195312, 5.546633243560791, 1.8566981554031372, 0.3584233820438385, 166.92648315429688, 51.746002197265625, 4.212475776672363, 2.0473837852478027, 3.6781246662139893, 8.304182052612305, 75.25521850585938, 1.9934983253479004, 1.0360647439956665, 52.81112289428711, 2.384526252746582, 0.8177428245544434, 0.99772047996521, 2.325488328933716, 59.957794189453125, 152.50538635253906, 23.10293960571289, 26.037094116210938, 27.390113830566406, 26.092662811279297, 92.20519256591797, 51.79225158691406, 31.61183738708496, 23.033798217773438, 17.952190399169922, 20.90895652770996, 20.278278350830078, 47.471771240234375, 27.00835609436035, 30.59276008605957, 29.561508178710938, 13.160778999328613, 14.519302368164062, 0.7503151297569275, 81.07640075683594, 4.008033275604248, 91.30695343017578, 14.632445335388184, 26.591035842895508, 9.570015907287598, 6.537769317626953, 6.231015682220459, 2.8825483322143555, 5.762539386749268, 145.16197204589844, 67.84015655517578, 1.249269962310791, 34.13405990600586, 3.3507978916168213, 17.31256675720215, 223.37640380859375, 46.72175216674805, 5.771684169769287, 5.106492042541504, 88.493408203125, 1.2391935586929321, 89.10086822509766, 35.43061828613281, 2.8335440158843994, 7.675832748413086, 16.748620986938477, 4.458776950836182, 177.6894073486328, 49.91254806518555, 154.43017578125, 66.38641357421875, 55.32958984375, 71.38951873779297, 149.20782470703125, 79.78988647460938, 47.623992919921875, 16.92293357849121, 18.60317039489746, 16.783720016479492, 50.86152648925781, 15.358915328979492, 19.108234405517578, 16.652830123901367, 15.34375, 0.6197356581687927, 0.5332233905792236, 1.805222988128662, 57.732913970947266, 7.515445232391357, 5.166522026062012, 25.611003875732422, 46.18352127075195, 1.4960674047470093, 6.7265424728393555, 6.462703227996826, 123.73889923095703, 38.87496566772461, 3.3054957389831543, 99.81968688964844, 152.3697509765625, 25.919147491455078, 2.6390323638916016, 3.3679678440093994, 5.353981018066406, 8.344590187072754, 47.99045181274414, 18.84770393371582, 8.29981803894043, 0.485539048910141, 4.365604400634766, 200.09437561035156, 2.2114551067352295, 52.440773010253906, 48.56681823730469, 77.77416229248047, 49.448612213134766, 169.56272888183594, 63.63158416748047, 33.935035705566406, 27.791879653930664, 132.850341796875, 26.311800003051758, 122.93327331542969, 29.186803817749023, 87.16849517822266, 50.61215591430664, 60.7562370300293, 38.77149200439453, 28.510089874267578, 17.60386848449707, 21.781782150268555, 4.844050884246826, 238.05262756347656, 7.4193220138549805, 50.34718322753906, 1.473171591758728, 28.12801170349121, 2.1743760108947754, 1.3871079683303833, 1.3486926555633545, 5.044726371765137, 5.103571891784668, 33.22966003417969, 19.075462341308594, 5.996894359588623, 30.55939292907715, 76.59130096435547, 28.561363220214844, 3.661105155944824, 7.389209270477295, 1.0502616167068481, 0.37595218420028687, 116.44879913330078, 85.81513214111328, 126.29856872558594, 4.074073314666748, 31.74506187438965, 2.0811610221862793, 179.411376953125, 13.961397171020508, 157.02883911132812, 156.72760009765625, 40.504581451416016, 27.695791244506836, 32.870235443115234, 39.149295806884766, 24.4776611328125, 53.935577392578125, 100.61173248291016, 43.88288116455078, 16.456710815429688, 43.42171096801758, 25.258073806762695, 30.263397216796875, 17.57510757446289, 23.794546127319336, 11.481462478637695, 2.5113377571105957, 1.9534692764282227, 33.318077087402344, 7.276493072509766, 87.48286437988281, 1.3404980897903442, 0.5127146244049072, 4.750223159790039, 1.5516383647918701, 221.76939392089844, 5.358923435211182, 33.45680236816406, 80.86170196533203, 4.720569610595703, 33.29586410522461, 30.836172103881836, 5.805356025695801, 4.677652359008789, 17.391996383666992, 4.574275493621826, 190.78350830078125, 6.640914440155029, 65.76998138427734, 1.9398119449615479, 77.16454315185547, 2.0081350803375244, 2.8798611164093018, 4.053517818450928, 161.3079376220703, 22.68487548828125, 30.59317398071289, 151.61383056640625, 102.51640319824219, 42.03614044189453, 82.9163589477539, 32.1717643737793, 75.54399108886719, 30.197917938232422, 24.312257766723633, 49.08543014526367, 16.085124969482422, 14.725554466247559, 18.8967227935791, 32.2749137878418, 10.769383430480957, 18.658536911010742, 14.705288887023926, 17.45912742614746, 0.7583373188972473, 0.6954760551452637, 3.4871256351470947, 56.66933822631836, 1.3212976455688477, 77.79598236083984, 1.2189794778823853, 51.16800308227539, 1.2210239171981812, 27.85055923461914, 98.19566345214844, 4.838241100311279, 42.12211227416992, 78.57855987548828, 142.14187622070312, 0.4880061745643616, 75.17801666259766, 7.864818096160889, 1.15812349319458, 8.86702823638916, 59.2763786315918, 4.3569722175598145, 77.21263885498047, 4.041858196258545, 6.198334217071533, 2.408555507659912, 2.590872287750244, 1.855124592781067, 28.18804168701172, 139.2495574951172, 145.28184509277344, 100.86630249023438, 81.0572280883789, 61.24006652832031, 39.257164001464844, 36.23191833496094, 109.62428283691406, 20.546695709228516, 21.75067138671875, 96.61601257324219, 25.890583038330078, 14.819173812866211, 16.811859130859375, 14.233482360839844, 11.87144660949707, 15.41147518157959, 11.162282943725586, 15.096144676208496, 74.28146362304688, 80.38529205322266, 81.24694061279297, 4.975543022155762, 2.631408214569092, 92.34559631347656, 55.92018508911133, 200.72213745117188, 1.139527440071106, 3.409727096557617, 5.3960185050964355, 21.43901252746582, 4.205880165100098, 4.2334771156311035, 109.55970001220703, 20.941526412963867, 19.64348030090332, 2.055243730545044, 1.9219162464141846, 0.7220838665962219, 14.808632850646973, 3.9680447578430176, 28.19586944580078, 22.897289276123047, 0.38827934861183167, 57.66093444824219, 28.39444351196289, 2.2935903072357178, 2.500871419906616, 42.686058044433594, 13.168631553649902, 24.809175491333008, 98.17167663574219, 138.63467407226562, 50.30905532836914, 27.55099868774414, 50.17759704589844, 105.2175521850586, 66.65885925292969, 45.211936950683594, 72.62398529052734, 18.471729278564453, 15.910355567932129, 18.998638153076172, 15.512565612792969, 3.213576316833496, 5.020342826843262, 46.26368713378906, 0.6611776947975159, 1.6349085569381714, 6.492506504058838, 3.6578264236450195, 1.0358539819717407, 2.5661797523498535, 215.66177368164062, 26.26372528076172, 1.325276494026184, 58.50594711303711, 2.9314932823181152, 35.95000076293945, 7.126668930053711, 51.64377975463867, 3.941786766052246, 2.051370859146118, 77.68098449707031, 75.38004302978516, 77.66654205322266, 25.423200607299805, 0.8647944927215576, 0.33107975125312805, 5.5923895835876465, 38.183006286621094, 53.43503952026367, 4.1136474609375, 59.23885726928711, 132.3313751220703, 17.503021240234375, 129.4461212158203, 124.13671112060547, 83.74009704589844, 27.03173065185547, 68.28560638427734, 44.390384674072266, 21.76227569580078, 68.41289520263672, 16.352155685424805, 27.386043548583984, 18.236953735351562, 16.131166458129883, 11.44694995880127, 18.029653549194336, 12.767070770263672], \"Term\": [\"hybrid\", \"hungry\", \"euphoric\", \"sweet\", \"sativa\", \"happy\", \"indica\", \"citrus\", \"uplifted\", \"talkative\", \"earthy\", \"flowery\", \"berry\", \"pine\", \"sleepy\", \"tingly\", \"focused\", \"energetic\", \"herbal\", \"skunk\", \"relaxed\", \"aroused\", \"woody\", \"creative\", \"orange\", \"pungent\", \"mango\", \"diesel\", \"giggly\", \"tropical\", \"tobacco\", \"pine\", \"lemon\", \"lavender\", \"woody\", \"grape\", \"diesel\", \"giggly\", \"earthy\", \"apricot\", \"apple\", \"peach\", \"skunk\", \"spicy\", \"happy\", \"sleepy\", \"hybrid\", \"rose\", \"menthol\", \"tar\", \"euphoric\", \"relaxed\", \"indica\", \"chemical\", \"pungent\", \"uplifted\", \"vanilla\", \"herbal\", \"plum\", \"pear\", \"creative\", \"pepper\", \"energetic\", \"focused\", \"hungry\", \"citrus\", \"talkative\", \"tingly\", \"sweet\", \"tropical\", \"aroused\", \"berry\", \"flowery\", \"sativa\", \"butter\", \"sativa\", \"lime\", \"blueberry\", \"minty\", \"energetic\", \"happy\", \"strawberry\", \"sweet\", \"coffee\", \"honey\", \"tropical\", \"ammonia\", \"uplifted\", \"berry\", \"focused\", \"pineapple\", \"vanilla\", \"tobacco\", \"earthy\", \"peach\", \"lemon\", \"pungent\", \"relaxed\", \"mango\", \"cheese\", \"hybrid\", \"diesel\", \"sleepy\", \"grapefruit\", \"euphoric\", \"creative\", \"spicy\", \"woody\", \"talkative\", \"citrus\", \"pine\", \"aroused\", \"indica\", \"giggly\", \"herbal\", \"flowery\", \"tingly\", \"hungry\", \"honey\", \"tingly\", \"grapefruit\", \"pineapple\", \"sage\", \"tropical\", \"cheese\", \"happy\", \"sweet\", \"nutty\", \"creative\", \"relaxed\", \"hybrid\", \"strawberry\", \"apple\", \"plum\", \"uplifted\", \"hungry\", \"lavender\", \"mint\", \"mango\", \"orange\", \"sleepy\", \"butter\", \"apricot\", \"citrus\", \"coffee\", \"chestnut\", \"blue\", \"menthol\", \"energetic\", \"euphoric\", \"diesel\", \"flowery\", \"giggly\", \"pine\", \"earthy\", \"focused\", \"berry\", \"woody\", \"aroused\", \"herbal\", \"spicy\", \"indica\", \"talkative\", \"pungent\", \"sativa\", \"blueberry\", \"lemon\", \"plum\", \"berry\", \"mint\", \"sativa\", \"orange\", \"tropical\", \"lime\", \"fruit\", \"sage\", \"rose\", \"tree\", \"sweet\", \"pungent\", \"violet\", \"diesel\", \"coffee\", \"grape\", \"happy\", \"talkative\", \"strawberry\", \"chemical\", \"indica\", \"blue\", \"creative\", \"giggly\", \"menthol\", \"cheese\", \"blueberry\", \"pineapple\", \"euphoric\", \"hungry\", \"uplifted\", \"energetic\", \"citrus\", \"sleepy\", \"relaxed\", \"earthy\", \"focused\", \"lemon\", \"spicy\", \"aroused\", \"hybrid\", \"skunk\", \"flowery\", \"pine\", \"herbal\", \"mouth\", \"dry\", \"violet\", \"flowery\", \"fruit\", \"nutty\", \"grape\", \"herbal\", \"chestnut\", \"lavender\", \"tree\", \"indica\", \"spicy\", \"tea\", \"sleepy\", \"earthy\", \"skunk\", \"butter\", \"menthol\", \"sage\", \"pepper\", \"talkative\", \"blueberry\", \"cheese\", \"pear\", \"grapefruit\", \"relaxed\", \"rose\", \"pungent\", \"sativa\", \"creative\", \"hungry\", \"happy\", \"energetic\", \"tingly\", \"woody\", \"uplifted\", \"diesel\", \"euphoric\", \"giggly\", \"hybrid\", \"focused\", \"sweet\", \"citrus\", \"berry\", \"lemon\", \"pine\", \"tea\", \"hybrid\", \"chemical\", \"tingly\", \"apricot\", \"aroused\", \"apple\", \"blue\", \"tobacco\", \"fruit\", \"sage\", \"woody\", \"blueberry\", \"strawberry\", \"herbal\", \"focused\", \"spicy\", \"ammonia\", \"pepper\", \"violet\", \"plum\", \"sweet\", \"creative\", \"earthy\", \"vanilla\", \"flowery\", \"mint\", \"relaxed\", \"grape\", \"uplifted\", \"euphoric\", \"sativa\", \"giggly\", \"berry\", \"pungent\", \"pine\", \"sleepy\", \"happy\", \"energetic\", \"lemon\", \"indica\", \"talkative\", \"citrus\", \"diesel\", \"hungry\", \"mango\", \"tar\", \"apricot\", \"skunk\", \"chemical\", \"citrus\", \"chestnut\", \"plum\", \"ammonia\", \"tobacco\", \"uplifted\", \"grapefruit\", \"herbal\", \"focused\", \"vanilla\", \"woody\", \"diesel\", \"strawberry\", \"lavender\", \"blueberry\", \"pineapple\", \"relaxed\", \"pepper\", \"energetic\", \"rose\", \"creative\", \"tea\", \"honey\", \"minty\", \"euphoric\", \"spicy\", \"tingly\", \"happy\", \"hybrid\", \"pungent\", \"earthy\", \"talkative\", \"sweet\", \"berry\", \"flowery\", \"indica\", \"lemon\", \"aroused\", \"giggly\", \"sleepy\", \"tropical\", \"sativa\", \"pine\", \"hungry\", \"dry\", \"mouth\", \"apple\", \"pine\", \"peach\", \"hungry\", \"chestnut\", \"berry\", \"violet\", \"aroused\", \"sleepy\", \"vanilla\", \"tingly\", \"focused\", \"earthy\", \"pear\", \"energetic\", \"cheese\", \"blue\", \"orange\", \"citrus\", \"minty\", \"indica\", \"pineapple\", \"pepper\", \"coffee\", \"nutty\", \"mint\", \"giggly\", \"uplifted\", \"relaxed\", \"hybrid\", \"sweet\", \"creative\", \"pungent\", \"sativa\", \"euphoric\", \"herbal\", \"woody\", \"happy\", \"talkative\", \"skunk\", \"spicy\", \"lemon\", \"tropical\", \"diesel\", \"grape\", \"flowery\", \"talkative\", \"hungry\", \"citrus\", \"mango\", \"rose\", \"indica\", \"sativa\", \"euphoric\", \"tar\", \"honey\", \"strawberry\", \"skunk\", \"grapefruit\", \"tree\", \"sweet\", \"aroused\", \"lemon\", \"tea\", \"mint\", \"peach\", \"blueberry\", \"pineapple\", \"pine\", \"spicy\", \"pear\", \"focused\", \"giggly\", \"coffee\", \"nutty\", \"pungent\", \"tropical\", \"flowery\", \"hybrid\", \"happy\", \"energetic\", \"berry\", \"sleepy\", \"relaxed\", \"earthy\", \"creative\", \"uplifted\", \"woody\", \"herbal\", \"tingly\", \"orange\", \"butter\", \"ammonia\", \"flowery\", \"pear\", \"blue\", \"minty\", \"menthol\", \"peach\", \"rose\", \"euphoric\", \"aroused\", \"apricot\", \"hungry\", \"coffee\", \"giggly\", \"pepper\", \"pungent\", \"vanilla\", \"mint\", \"indica\", \"sleepy\", \"creative\", \"diesel\", \"chestnut\", \"plum\", \"lime\", \"talkative\", \"citrus\", \"chemical\", \"energetic\", \"uplifted\", \"lemon\", \"relaxed\", \"happy\", \"hybrid\", \"tingly\", \"sweet\", \"focused\", \"woody\", \"earthy\", \"skunk\", \"sativa\", \"pine\", \"herbal\", \"tropical\", \"berry\", \"spicy\"], \"Total\": [1187.0, 470.0, 1653.0, 1005.0, 449.0, 1760.0, 735.0, 540.0, 1513.0, 376.0, 1105.0, 282.0, 366.0, 287.0, 723.0, 325.0, 607.0, 636.0, 241.0, 188.0, 1699.0, 202.0, 260.0, 747.0, 79.0, 470.0, 34.0, 246.0, 300.0, 145.0, 10.131512641906738, 287.9913330078125, 190.69468688964844, 39.201515197753906, 260.1382141113281, 133.0760955810547, 246.8707275390625, 300.9686279296875, 1105.9307861328125, 10.46391773223877, 16.10489273071289, 7.228726863861084, 188.7611541748047, 234.59616088867188, 1760.5189208984375, 723.3530883789062, 1187.6041259765625, 18.788339614868164, 24.66484832763672, 9.573203086853027, 1653.198974609375, 1699.834716796875, 735.4296264648438, 42.095359802246094, 470.9911804199219, 1513.1641845703125, 35.97605895996094, 241.5207977294922, 3.2370285987854004, 4.086554527282715, 747.603515625, 61.77189636230469, 636.2131958007812, 607.3193969726562, 470.4626159667969, 540.0142822265625, 376.8926086425781, 325.5109558105469, 1005.4556884765625, 145.5705108642578, 202.55465698242188, 366.4266357421875, 282.6248779296875, 449.3680114746094, 19.282283782958984, 449.3680114746094, 55.0147590637207, 149.35040283203125, 41.25612258911133, 636.2131958007812, 1760.5189208984375, 47.16197204589844, 1005.4556884765625, 24.443265914916992, 29.14058494567871, 145.5705108642578, 30.234172821044922, 1513.1641845703125, 366.4266357421875, 607.3193969726562, 40.20673751831055, 35.97605895996094, 10.131512641906738, 1105.9307861328125, 7.228726863861084, 190.69468688964844, 470.9911804199219, 1699.834716796875, 34.76297378540039, 67.03617095947266, 1187.6041259765625, 246.8707275390625, 723.3530883789062, 37.04296112060547, 1653.198974609375, 747.603515625, 234.59616088867188, 260.1382141113281, 376.8926086425781, 540.0142822265625, 287.9913330078125, 202.55465698242188, 735.4296264648438, 300.9686279296875, 241.5207977294922, 282.6248779296875, 325.5109558105469, 470.4626159667969, 29.14058494567871, 325.5109558105469, 37.04296112060547, 40.20673751831055, 39.6317024230957, 145.5705108642578, 67.03617095947266, 1760.5189208984375, 1005.4556884765625, 26.82431411743164, 747.603515625, 1699.834716796875, 1187.6041259765625, 47.16197204589844, 16.10489273071289, 3.2370285987854004, 1513.1641845703125, 470.4626159667969, 39.201515197753906, 19.210704803466797, 34.76297378540039, 79.40576171875, 723.3530883789062, 19.282283782958984, 10.46391773223877, 540.0142822265625, 24.443265914916992, 8.404930114746094, 10.323333740234375, 24.66484832763672, 636.2131958007812, 1653.198974609375, 246.8707275390625, 282.6248779296875, 300.9686279296875, 287.9913330078125, 1105.9307861328125, 607.3193969726562, 366.4266357421875, 260.1382141113281, 202.55465698242188, 241.5207977294922, 234.59616088867188, 735.4296264648438, 376.8926086425781, 470.9911804199219, 449.3680114746094, 149.35040283203125, 190.69468688964844, 3.2370285987854004, 366.4266357421875, 19.210704803466797, 449.3680114746094, 79.40576171875, 145.5705108642578, 55.0147590637207, 38.14314270019531, 39.6317024230957, 18.788339614868164, 37.72981262207031, 1005.4556884765625, 470.9911804199219, 8.828667640686035, 246.8707275390625, 24.443265914916992, 133.0760955810547, 1760.5189208984375, 376.8926086425781, 47.16197204589844, 42.095359802246094, 735.4296264648438, 10.323333740234375, 747.603515625, 300.9686279296875, 24.66484832763672, 67.03617095947266, 149.35040283203125, 40.20673751831055, 1653.198974609375, 470.4626159667969, 1513.1641845703125, 636.2131958007812, 540.0142822265625, 723.3530883789062, 1699.834716796875, 1105.9307861328125, 607.3193969726562, 190.69468688964844, 234.59616088867188, 202.55465698242188, 1187.6041259765625, 188.7611541748047, 282.6248779296875, 287.9913330078125, 241.5207977294922, 2.2127015590667725, 2.1858091354370117, 8.828667640686035, 282.6248779296875, 38.14314270019531, 26.82431411743164, 133.0760955810547, 241.5207977294922, 8.404930114746094, 39.201515197753906, 37.72981262207031, 735.4296264648438, 234.59616088867188, 20.195531845092773, 723.3530883789062, 1105.9307861328125, 188.7611541748047, 19.282283782958984, 24.66484832763672, 39.6317024230957, 61.77189636230469, 376.8926086425781, 149.35040283203125, 67.03617095947266, 4.086554527282715, 37.04296112060547, 1699.834716796875, 18.788339614868164, 470.9911804199219, 449.3680114746094, 747.603515625, 470.4626159667969, 1760.5189208984375, 636.2131958007812, 325.5109558105469, 260.1382141113281, 1513.1641845703125, 246.8707275390625, 1653.198974609375, 300.9686279296875, 1187.6041259765625, 607.3193969726562, 1005.4556884765625, 540.0142822265625, 366.4266357421875, 190.69468688964844, 287.9913330078125, 20.195531845092773, 1187.6041259765625, 42.095359802246094, 325.5109558105469, 10.46391773223877, 202.55465698242188, 16.10489273071289, 10.323333740234375, 10.131512641906738, 38.14314270019531, 39.6317024230957, 260.1382141113281, 149.35040283203125, 47.16197204589844, 241.5207977294922, 607.3193969726562, 234.59616088867188, 30.234172821044922, 61.77189636230469, 8.828667640686035, 3.2370285987854004, 1005.4556884765625, 747.603515625, 1105.9307861328125, 35.97605895996094, 282.6248779296875, 19.210704803466797, 1699.834716796875, 133.0760955810547, 1513.1641845703125, 1653.198974609375, 449.3680114746094, 300.9686279296875, 366.4266357421875, 470.9911804199219, 287.9913330078125, 723.3530883789062, 1760.5189208984375, 636.2131958007812, 190.69468688964844, 735.4296264648438, 376.8926086425781, 540.0142822265625, 246.8707275390625, 470.4626159667969, 34.76297378540039, 9.573203086853027, 10.46391773223877, 188.7611541748047, 42.095359802246094, 540.0142822265625, 8.404930114746094, 3.2370285987854004, 30.234172821044922, 10.131512641906738, 1513.1641845703125, 37.04296112060547, 241.5207977294922, 607.3193969726562, 35.97605895996094, 260.1382141113281, 246.8707275390625, 47.16197204589844, 39.201515197753906, 149.35040283203125, 40.20673751831055, 1699.834716796875, 61.77189636230469, 636.2131958007812, 18.788339614868164, 747.603515625, 20.195531845092773, 29.14058494567871, 41.25612258911133, 1653.198974609375, 234.59616088867188, 325.5109558105469, 1760.5189208984375, 1187.6041259765625, 470.9911804199219, 1105.9307861328125, 376.8926086425781, 1005.4556884765625, 366.4266357421875, 282.6248779296875, 735.4296264648438, 190.69468688964844, 202.55465698242188, 300.9686279296875, 723.3530883789062, 145.5705108642578, 449.3680114746094, 287.9913330078125, 470.4626159667969, 2.1858091354370117, 2.2127015590667725, 16.10489273071289, 287.9913330078125, 7.228726863861084, 470.4626159667969, 8.404930114746094, 366.4266357421875, 8.828667640686035, 202.55465698242188, 723.3530883789062, 35.97605895996094, 325.5109558105469, 607.3193969726562, 1105.9307861328125, 4.086554527282715, 636.2131958007812, 67.03617095947266, 10.323333740234375, 79.40576171875, 540.0142822265625, 41.25612258911133, 735.4296264648438, 40.20673751831055, 61.77189636230469, 24.443265914916992, 26.82431411743164, 19.210704803466797, 300.9686279296875, 1513.1641845703125, 1699.834716796875, 1187.6041259765625, 1005.4556884765625, 747.603515625, 470.9911804199219, 449.3680114746094, 1653.198974609375, 241.5207977294922, 260.1382141113281, 1760.5189208984375, 376.8926086425781, 188.7611541748047, 234.59616088867188, 190.69468688964844, 145.5705108642578, 246.8707275390625, 133.0760955810547, 282.6248779296875, 376.8926086425781, 470.4626159667969, 540.0142822265625, 34.76297378540039, 18.788339614868164, 735.4296264648438, 449.3680114746094, 1653.198974609375, 9.573203086853027, 29.14058494567871, 47.16197204589844, 188.7611541748047, 37.04296112060547, 37.72981262207031, 1005.4556884765625, 202.55465698242188, 190.69468688964844, 20.195531845092773, 19.210704803466797, 7.228726863861084, 149.35040283203125, 40.20673751831055, 287.9913330078125, 234.59616088867188, 4.086554527282715, 607.3193969726562, 300.9686279296875, 24.443265914916992, 26.82431411743164, 470.9911804199219, 145.5705108642578, 282.6248779296875, 1187.6041259765625, 1760.5189208984375, 636.2131958007812, 366.4266357421875, 723.3530883789062, 1699.834716796875, 1105.9307861328125, 747.603515625, 1513.1641845703125, 260.1382141113281, 241.5207977294922, 325.5109558105469, 79.40576171875, 19.282283782958984, 30.234172821044922, 282.6248779296875, 4.086554527282715, 10.323333740234375, 41.25612258911133, 24.66484832763672, 7.228726863861084, 18.788339614868164, 1653.198974609375, 202.55465698242188, 10.46391773223877, 470.4626159667969, 24.443265914916992, 300.9686279296875, 61.77189636230469, 470.9911804199219, 35.97605895996094, 19.210704803466797, 735.4296264648438, 723.3530883789062, 747.603515625, 246.8707275390625, 8.404930114746094, 3.2370285987854004, 55.0147590637207, 376.8926086425781, 540.0142822265625, 42.095359802246094, 636.2131958007812, 1513.1641845703125, 190.69468688964844, 1699.834716796875, 1760.5189208984375, 1187.6041259765625, 325.5109558105469, 1005.4556884765625, 607.3193969726562, 260.1382141113281, 1105.9307861328125, 188.7611541748047, 449.3680114746094, 287.9913330078125, 241.5207977294922, 145.5705108642578, 366.4266357421875, 234.59616088867188], \"loglift\": [30.0, 29.0, 28.0, 27.0, 26.0, 25.0, 24.0, 23.0, 22.0, 21.0, 20.0, 19.0, 18.0, 17.0, 16.0, 15.0, 14.0, 13.0, 12.0, 11.0, 10.0, 9.0, 8.0, 7.0, 6.0, 5.0, 4.0, 3.0, 2.0, 1.0, 0.7411999702453613, 0.567799985408783, 0.5436999797821045, 0.4603999853134155, 0.45329999923706055, 0.37220001220703125, 0.3711000084877014, 0.35679998993873596, 0.33250001072883606, 0.3133000135421753, 0.25220000743865967, 0.23690000176429749, 0.23000000417232513, 0.20990000665187836, 0.20280000567436218, 0.20059999823570251, 0.1979999989271164, 0.1898999959230423, 0.131400004029274, 0.11029999703168869, 0.10719999670982361, 0.08100000023841858, 0.07800000160932541, 0.04500000178813934, 0.021299999207258224, -0.10559999942779541, -0.11330000311136246, -0.1145000010728836, -0.11559999734163284, -0.1200999990105629, -0.1404999941587448, -0.16030000150203705, -0.29330000281333923, -0.2957000136375427, -0.2824000120162964, -0.4235000014305115, -0.40380001068115234, -0.39649999141693115, -0.6417999863624573, -0.2727999985218048, -0.3716999888420105, -0.5978999733924866, -0.5972999930381775, -0.86080002784729, 0.5468000173568726, 0.5134000182151794, 0.5091000199317932, 0.3926999866962433, 0.3889000117778778, 0.37619999051094055, 0.33640000224113464, 0.33500000834465027, 0.3125, 0.2973000109195709, 0.2093999981880188, 0.19339999556541443, 0.13079999387264252, 0.1290999948978424, 0.09319999814033508, 0.05849999934434891, 0.05689999833703041, 0.05040000006556511, 0.04039999842643738, 0.03720000013709068, 0.03150000050663948, 0.028999999165534973, 0.024800000712275505, -0.010999999940395355, -0.019700000062584877, -0.02889999933540821, -0.03759999945759773, -0.10869999974966049, -0.1273999959230423, -0.14079999923706055, -0.16210000216960907, -0.1899999976158142, -0.18940000236034393, -0.2084999978542328, -0.2526000142097473, -0.3199000060558319, -0.23669999837875366, -0.2401999980211258, -0.5141000151634216, -0.3935999870300293, -0.3384999930858612, -0.4043000042438507, -0.5315999984741211, -0.8392000198364258, 0.5960999727249146, 0.5954999923706055, 0.5708000063896179, 0.5701000094413757, 0.4016999900341034, 0.3779999911785126, 0.31290000677108765, 0.3019999861717224, 0.2964000105857849, 0.24729999899864197, 0.1835000067949295, 0.1777999997138977, 0.12380000203847885, 0.10639999806880951, 0.08640000224113464, 0.04610000178217888, 0.042399998754262924, 0.039400000125169754, 0.016100000590085983, 0.007899999618530273, 0.0006000000284984708, -0.010999999940395355, -0.016200000420212746, -0.02250000089406967, -0.065700002014637, -0.07810000330209732, -0.08060000091791153, -0.08330000191926956, -0.08990000188350677, -0.11469999700784683, -0.11509999632835388, -0.13650000095367432, -0.12210000306367874, -0.13779999315738678, -0.1500999927520752, -0.15449999272823334, -0.23770000040531158, -0.2151000052690506, -0.20350000262260437, -0.17749999463558197, -0.17649999260902405, -0.20000000298023224, -0.20160000026226044, -0.4936000108718872, -0.38909998536109924, -0.48730000853538513, -0.4745999872684479, -0.18230000138282776, -0.32839998602867126, 0.7889000177383423, 0.7423999905586243, 0.6836000084877014, 0.6571999788284302, 0.559499979019165, 0.5507000088691711, 0.501800000667572, 0.4869999885559082, 0.40070000290870667, 0.37619999051094055, 0.3716999888420105, 0.31540000438690186, 0.31310001015663147, 0.2953000068664551, 0.27219998836517334, 0.2635999917984009, 0.21130000054836273, 0.18629999458789825, 0.16300000250339508, 0.1501999944448471, 0.14139999449253082, 0.13330000638961792, 0.13079999387264252, 0.12370000034570694, 0.11140000075101852, 0.0869000032544136, 0.0835999995470047, 0.06279999762773514, 0.051600001752376556, 0.020400000736117363, 0.007300000172108412, -0.03139999881386757, -0.00930000003427267, -0.027499999850988388, -0.06499999761581421, -0.18219999969005585, -0.3783000111579895, -0.29490000009536743, -0.1712000072002411, -0.28369998931884766, -0.23980000615119934, -0.8998000025749207, -0.257999986410141, -0.4431999921798706, -0.5996000170707703, -0.5055000185966492, 0.9891999959945679, 0.8511000275611877, 0.6744999885559082, 0.6736000180244446, 0.637499988079071, 0.614799976348877, 0.6140000224113464, 0.6075000166893005, 0.5358999967575073, 0.4991999864578247, 0.4975000023841858, 0.4796000123023987, 0.4643999934196472, 0.4519999921321869, 0.28130000829696655, 0.27970001101493835, 0.27639999985694885, 0.27309998869895935, 0.27079999446868896, 0.26010000705718994, 0.25999999046325684, 0.20090000331401825, 0.19200000166893005, 0.1729000061750412, 0.13169999420642853, 0.12349999696016312, 0.12240000069141388, 0.12229999899864197, 0.06669999659061432, 0.03700000047683716, -0.0012000000569969416, 0.009100000374019146, -0.07829999923706055, -0.0406000018119812, 0.0008999999845400453, 0.02539999969303608, -0.17090000212192535, 0.023000000044703484, -0.3370000123977661, -0.0714000016450882, -0.3499999940395355, -0.22300000488758087, -0.5444999933242798, -0.3720000088214874, -0.29170000553131104, -0.12070000171661377, -0.3199999928474426, 0.8798999786376953, 0.7003999948501587, 0.5717999935150146, 0.44119998812675476, 0.34709998965263367, 0.33340001106262207, 0.3052000105381012, 0.3003999888896942, 0.29109999537467957, 0.28459998965263367, 0.2578999996185303, 0.24979999661445618, 0.24969999492168427, 0.24529999494552612, 0.2402999997138977, 0.2370000034570694, 0.20180000364780426, 0.1964000016450882, 0.1842000037431717, 0.1785999983549118, 0.15469999611377716, 0.15189999341964722, 0.1429000049829483, 0.13779999315738678, 0.12939999997615814, 0.12120000272989273, 0.08510000258684158, 0.05900000035762787, 0.05299999937415123, 0.042100001126527786, -0.04830000177025795, -0.09880000352859497, -0.07810000330209732, -0.10360000282526016, -0.17980000376701355, -0.15760000050067902, -0.28850001096725464, -0.5544999837875366, -0.36640000343322754, -0.14229999482631683, -0.5218999981880188, -0.3952000141143799, -0.5740000009536743, -0.33480000495910645, -0.6765999794006348, 1.2375999689102173, 1.007200002670288, 0.6671000123023987, 0.6110000014305115, 0.5900999903678894, 0.5252000093460083, 0.5095999836921692, 0.5026999711990356, 0.49459999799728394, 0.4690999984741211, 0.4250999987125397, 0.4120999872684479, 0.3686999976634979, 0.32910001277923584, 0.31450000405311584, 0.2896000146865845, 0.2651999890804291, 0.25060001015663147, 0.21950000524520874, 0.19509999454021454, 0.17180000245571136, 0.1582999974489212, 0.1151999980211258, 0.07599999755620956, 0.07479999959468842, 0.07450000196695328, 0.03709999844431877, 0.03099999949336052, 0.025200000032782555, 0.018200000748038292, 0.009200000204145908, -0.019200000911951065, -0.10660000145435333, -0.10429999977350235, -0.07090000063180923, -0.2451999932527542, -0.11550000309944153, -0.24310000240802765, -0.15060000121593475, -0.10769999772310257, -0.36149999499320984, -0.1273999959230423, -0.2759999930858612, -0.42260000109672546, -0.76419997215271, -0.25859999656677246, -0.8360999822616577, -0.6292999982833862, -0.9484999775886536, 1.315600037574768, 1.2168999910354614, 0.8442000150680542, 0.7484999895095825, 0.6747999787330627, 0.5745999813079834, 0.44339999556541443, 0.40549999475479126, 0.39590001106262207, 0.39010000228881836, 0.3772999942302704, 0.367900013923645, 0.3294000029563904, 0.3292999863624573, 0.32260000705718994, 0.249099999666214, 0.2386000007390976, 0.2313999980688095, 0.186599999666214, 0.18199999630451202, 0.1648000031709671, 0.12620000541210175, 0.12030000239610672, 0.07689999788999557, 0.07509999722242355, 0.05689999833703041, 0.03689999878406525, 0.03669999912381172, 0.006099999882280827, -0.011500000022351742, -0.08540000021457672, -0.0917000025510788, -0.14380000531673431, -0.12780000269412994, -0.11050000041723251, -0.1437000036239624, -0.3391999900341034, -0.09000000357627869, -0.10729999840259552, -0.5284000039100647, -0.30390000343322754, -0.17030000686645508, -0.26159998774528503, -0.2207999974489212, -0.13230000436306, -0.3995000123977661, -0.10419999808073044, -0.5554999709129333, 0.7946000099182129, 0.6517999768257141, 0.5246000289916992, 0.474700003862381, 0.453000009059906, 0.34380000829696655, 0.33480000495910645, 0.3102000057697296, 0.29030001163482666, 0.27320000529289246, 0.2508000135421753, 0.2433999925851822, 0.24310000240802765, 0.2312999963760376, 0.20200000703334808, 0.149399995803833, 0.14579999446868896, 0.13359999656677246, 0.11659999936819077, 0.11500000208616257, 0.10760000348091125, 0.10289999842643738, 0.09489999711513519, 0.09189999848604202, 0.06499999761581421, 0.06419999897480011, 0.05790000036358833, 0.05249999836087227, 0.04600000008940697, 0.01769999973475933, 0.01590000092983246, -0.0142000000923872, -0.07429999858140945, -0.12280000001192093, -0.11869999766349792, -0.16910000145435333, -0.24959999322891235, -0.3635999858379364, -0.3901999890804291, -0.38679999113082886, -0.6179999709129333, -0.22630000114440918, -0.3012999892234802, -0.4223000109195709, 0.7888000011444092, 0.6298999786376953, 0.6262999773025513, 0.6119999885559082, 0.6003000140190125, 0.5788999795913696, 0.5726000070571899, 0.5131999850273132, 0.4788999855518341, 0.4309000074863434, 0.38499999046325684, 0.3788999915122986, 0.3553999960422516, 0.33719998598098755, 0.30090001225471497, 0.2969000041484833, 0.2621000111103058, 0.21130000054836273, 0.21050000190734863, 0.18479999899864197, 0.17389999330043793, 0.16040000319480896, 0.15729999542236328, 0.148499995470047, 0.1476999968290329, 0.14169999957084656, 0.1354999989271164, 0.13220000267028809, 0.10859999805688858, 0.09610000252723694, 0.04780000075697899, -0.01489999983459711, 0.033399999141693115, -0.15330000221729279, -0.23019999265670776, -0.23019999265670776, -0.066600002348423, -0.2678000032901764, -0.19429999589920044, -0.059300001710653305, -0.3610999882221222, -0.024399999529123306, -0.37610000371932983, -0.3377000093460083, -0.28450000286102295, -0.12120000272989273, -0.5899999737739563, -0.489300012588501], \"logprob\": [30.0, 29.0, 28.0, 27.0, 26.0, 25.0, 24.0, 23.0, 22.0, 21.0, 20.0, 19.0, 18.0, 17.0, 16.0, 15.0, 14.0, 13.0, 12.0, 11.0, 10.0, 9.0, 8.0, 7.0, 6.0, 5.0, 4.0, 3.0, 2.0, 1.0, -6.85860013961792, -3.684799909591675, -4.121200084686279, -5.786399841308594, -3.9010000228881836, -4.652400016784668, -4.0355000495910645, -3.8517000675201416, -2.57450008392334, -7.254300117492676, -6.884099960327148, -7.700500011444092, -4.445000171661377, -4.247700214385986, -2.239300012588501, -3.1310999393463135, -2.6377999782562256, -6.792300224304199, -6.578700065612793, -7.546299934387207, -2.3977999687194824, -2.396199941635132, -3.2370998859405518, -6.1305999755859375, -3.7393999099731445, -2.6991000175476074, -6.446000099182129, -4.543099880218506, -8.856499671936035, -8.627900123596191, -3.439199924468994, -5.952400207519531, -3.7532999515533447, -3.8022000789642334, -4.0441999435424805, -4.047399997711182, -4.38730001449585, -4.526700019836426, -3.6440999507904053, -5.207699775695801, -4.976200103759766, -4.609600067138672, -4.86870002746582, -4.668499946594238, -6.4095001220703125, -3.294300079345703, -5.398799896240234, -4.516499996185303, -5.80679988861084, -3.0838000774383545, -2.1057000160217285, -5.726900100708008, -2.6898000240325928, -6.421800136566162, -6.333899974822998, -4.741399765014648, -6.375699996948242, -2.464400053024292, -3.918600082397461, -3.447999954223633, -6.164599895477295, -6.282299995422363, -7.559500217437744, -2.869800090789795, -7.906000137329102, -4.635900020599365, -3.7358999252319336, -2.4881999492645264, -6.38670015335083, -5.739200115203857, -2.8733999729156494, -4.515399932861328, -3.4590001106262207, -6.444200038909912, -2.667099952697754, -3.488600015640259, -4.646999835968018, -4.56279993057251, -4.236199855804443, -3.9437999725341797, -4.489299774169922, -4.844699859619141, -3.8290998935699463, -4.602099895477295, -4.767099857330322, -4.6757001876831055, -4.6616997718811035, -4.60099983215332, -5.947299957275391, -3.534600019454956, -5.732699871063232, -5.651400089263916, -5.834199905395508, -4.5569000244140625, -5.39739990234375, -2.1401000022888184, -2.705899953842163, -6.378900051116943, -3.1150999069213867, -2.2994000911712646, -2.7119998931884766, -5.955599784851074, -7.050000190734863, -8.69480037689209, -2.5511999130249023, -3.722399950027466, -6.2307000160217285, -6.952199935913086, -6.366300106048584, -5.552000045776367, -3.347899913787842, -6.978899955749512, -7.633299827575684, -3.7019999027252197, -6.799799919128418, -7.869999885559082, -7.671000003814697, -6.82480001449585, -3.5750999450683594, -2.6415998935699463, -4.528800010681152, -4.409200191497803, -4.35860013961792, -4.407100200653076, -3.144700050354004, -3.7214999198913574, -4.215199947357178, -4.531799793243408, -4.781000137329102, -4.628600120544434, -4.659200191497803, -3.8085999488830566, -4.372600078582764, -4.248000144958496, -4.282299995422363, -5.0914998054504395, -4.993299961090088, -7.952000141143799, -3.2692999839782715, -6.276400089263916, -3.1505000591278076, -4.981500148773193, -4.384200096130371, -5.406099796295166, -5.787099838256836, -5.83519983291626, -6.606100082397461, -5.913400173187256, -2.6868999004364014, -3.4475998878479004, -7.442200183868408, -4.134399890899658, -6.45550012588501, -4.813300132751465, -2.2558999061584473, -3.820499897003174, -5.911799907684326, -6.034200191497803, -3.18179988861084, -7.450300216674805, -3.174999952316284, -4.0971999168396, -6.623199939727783, -5.626699924468994, -4.846399784088135, -6.169899940490723, -2.4846999645233154, -3.754499912261963, -2.625, -3.4691998958587646, -3.651400089263916, -3.3966000080108643, -2.65939998626709, -3.2853000164031982, -3.8013999462127686, -4.836100101470947, -4.741399765014648, -4.844299793243408, -3.735599994659424, -4.933000087738037, -4.714600086212158, -4.852099895477295, -4.934000015258789, -8.132100105285645, -8.282500267028809, -7.063000202178955, -3.5978000164031982, -5.63670015335083, -6.01140022277832, -4.410600185394287, -3.821000099182129, -7.250800132751465, -5.747600078582764, -5.787600040435791, -2.8355000019073486, -3.993299961090088, -6.458099842071533, -3.050299882888794, -2.6273000240325928, -4.39870023727417, -6.683199882507324, -6.439300060272217, -5.975800037384033, -5.5320000648498535, -3.782599925994873, -4.717299938201904, -5.537399768829346, -8.376099586486816, -6.179900169372559, -2.3548998832702637, -6.860000133514404, -3.694000005722046, -3.770699977874756, -3.299799919128418, -3.752700090408325, -2.520400047302246, -3.500499963760376, -4.129199981689453, -4.32889986038208, -2.764400005340576, -4.383600234985352, -2.8420000076293945, -4.279900074005127, -3.185800075531006, -3.7295000553131104, -3.546799898147583, -3.996000051498413, -4.303400039672852, -4.7855000495910645, -4.5725998878479, -6.030200004577637, -2.1354000568389893, -5.603799819946289, -3.688999891281128, -7.2204999923706055, -4.271100044250488, -6.831200122833252, -7.280700206756592, -7.308800220489502, -5.98960018157959, -5.978000164031982, -4.104499816894531, -4.6595001220703125, -5.816699981689453, -4.188199996948242, -3.269399881362915, -4.255799770355225, -6.310100078582764, -5.607900142669678, -7.558899879455566, -8.586199760437012, -2.850399971008301, -3.1556999683380127, -2.7692999839782715, -6.2032999992370605, -4.150199890136719, -6.875, -2.4182000160217285, -4.97160005569458, -2.551500082015991, -2.5534000396728516, -3.9065001010894775, -4.286600112915039, -4.115300178527832, -3.940500020980835, -4.410099983215332, -3.6201000213623047, -2.9965999126434326, -3.8264000415802, -4.807199954986572, -3.836899995803833, -4.378799915313721, -4.197999954223633, -4.741399765014648, -4.438399791717529, -5.12939977645874, -6.6493000984191895, -6.9004998207092285, -4.064000129699707, -5.5854997634887695, -3.0987000465393066, -7.277100086212158, -8.238200187683105, -6.011899948120117, -7.130799770355225, -2.1684999465942383, -5.89139986038208, -4.059899806976318, -3.1774001121520996, -6.018199920654297, -4.064700126647949, -4.14139986038208, -5.811299800872803, -6.027299880981445, -4.714099884033203, -6.049699783325195, -2.319000005722046, -5.6768999099731445, -3.384000062942505, -6.90749979019165, -3.2242000102996826, -6.872900009155273, -6.512400150299072, -6.170499801635742, -2.486799955368042, -4.448400020599365, -4.1493000984191895, -2.548799991607666, -2.9400999546051025, -3.8315999507904053, -3.1522998809814453, -4.098999977111816, -3.2453999519348145, -4.162300109863281, -4.3790998458862305, -3.6765999794006348, -4.792200088500977, -4.880499839782715, -4.631100177764893, -4.095799922943115, -5.193399906158447, -4.643799781799316, -4.881899833679199, -4.710299968719482, -7.81790018081665, -7.904399871826172, -6.292200088500977, -3.5041000843048096, -7.262700080871582, -3.1872000694274902, -7.343299865722656, -3.6061999797821045, -7.341599941253662, -4.214399814605713, -2.9542999267578125, -5.964700222015381, -3.8006999492645264, -3.1772000789642334, -2.5845000743865967, -8.258700370788574, -3.221400022506714, -5.478899955749512, -7.394499778747559, -5.35890007019043, -3.4591000080108643, -6.069499969482422, -3.194700002670288, -6.144599914550781, -5.7170000076293945, -6.662300109863281, -6.589300155639648, -6.923299789428711, -4.202400207519531, -2.6050000190734863, -2.5625998973846436, -2.927500009536743, -3.1461000442504883, -3.426500082015991, -3.8712000846862793, -3.9512999057769775, -2.8441998958587646, -4.518599987030029, -4.461599826812744, -2.9704999923706055, -4.287399768829346, -4.845399856567383, -4.719200134277344, -4.885700225830078, -5.067200183868408, -4.80620002746582, -5.128699779510498, -4.8267998695373535, -3.188999891281128, -3.109999895095825, -3.099299907684326, -5.892300128936768, -6.529300212860107, -2.971299886703491, -3.472899913787842, -2.1949000358581543, -7.366199970245361, -6.270199775695801, -5.811200141906738, -4.431600093841553, -6.060299873352051, -6.053800106048584, -2.800299882888794, -4.455100059509277, -4.519100189208984, -6.776400089263916, -6.843500137329102, -7.822400093078613, -4.801599979400635, -6.118500232696533, -4.157599925994873, -4.365799903869629, -8.44279956817627, -3.442199945449829, -4.150599956512451, -6.6666998863220215, -6.5802001953125, -3.7428998947143555, -4.919000148773193, -4.285600185394287, -2.910099983215332, -2.565000057220459, -3.5785999298095703, -4.180799961090088, -3.581199884414673, -2.8408000469207764, -3.2971999645233154, -3.685499906539917, -3.2114999294281006, -4.580599784851074, -4.729800224304199, -4.5524001121521, -4.752099990844727, -6.326399803161621, -5.880300045013428, -3.65939998626709, -7.90749979019165, -7.002200126647949, -5.6230998039245605, -6.196899890899658, -7.458600044250488, -6.551400184631348, -2.1201000213623047, -4.225599765777588, -7.212200164794922, -3.4245998859405518, -6.418300151824951, -3.911600112915039, -5.529900074005127, -3.5494000911712646, -6.122099876403809, -6.775300025939941, -3.141200065612793, -3.1712000370025635, -3.141400098800659, -4.2581000328063965, -7.638999938964844, -8.599200248718262, -5.77239990234375, -3.8513998985290527, -3.5153000354766846, -6.079500198364258, -3.4121999740600586, -2.6085000038146973, -4.631400108337402, -2.630500078201294, -2.6723999977111816, -3.0660998821258545, -4.196800231933594, -3.2701001167297363, -3.7007999420166016, -4.413599967956543, -3.268199920654297, -4.699399948120117, -4.183700084686279, -4.5903000831604, -4.7129998207092285, -5.056099891662598, -4.601799964904785, -4.946899890899658]}, \"token.table\": {\"Topic\": [1, 2, 3, 4, 5, 6, 7, 8, 9, 10, 1, 2, 3, 4, 5, 6, 7, 8, 9, 10, 1, 2, 3, 5, 6, 7, 10, 1, 2, 3, 4, 5, 6, 7, 8, 9, 10, 1, 2, 3, 4, 5, 6, 7, 8, 9, 10, 1, 2, 3, 4, 5, 6, 7, 8, 9, 10, 1, 2, 3, 4, 5, 6, 7, 8, 9, 10, 1, 2, 3, 4, 5, 6, 7, 8, 9, 10, 1, 2, 3, 4, 5, 6, 7, 8, 9, 10, 1, 2, 3, 4, 5, 6, 7, 8, 9, 10, 2, 3, 5, 6, 7, 8, 9, 10, 1, 2, 3, 4, 5, 6, 7, 8, 9, 10, 1, 2, 3, 4, 5, 6, 7, 8, 9, 10, 1, 2, 3, 4, 5, 6, 7, 8, 9, 10, 1, 2, 3, 4, 5, 6, 7, 8, 9, 10, 5, 8, 1, 2, 3, 4, 5, 6, 7, 8, 9, 10, 1, 2, 3, 4, 5, 6, 7, 8, 9, 10, 1, 2, 3, 4, 5, 6, 7, 8, 9, 10, 1, 2, 3, 4, 5, 6, 7, 8, 9, 10, 1, 2, 3, 4, 5, 6, 7, 8, 9, 10, 1, 2, 3, 4, 5, 6, 7, 8, 9, 10, 1, 2, 3, 4, 5, 6, 7, 8, 9, 10, 1, 2, 3, 4, 5, 6, 7, 8, 9, 10, 1, 2, 3, 4, 5, 6, 7, 8, 9, 10, 1, 2, 3, 4, 5, 6, 7, 8, 9, 10, 1, 2, 3, 4, 5, 6, 7, 8, 9, 10, 1, 2, 3, 4, 5, 6, 7, 8, 9, 10, 1, 2, 3, 4, 5, 6, 7, 8, 9, 10, 1, 2, 3, 4, 5, 6, 7, 8, 9, 10, 1, 2, 3, 4, 5, 6, 7, 8, 9, 10, 1, 2, 3, 4, 5, 6, 7, 8, 9, 10, 1, 2, 3, 4, 5, 6, 7, 8, 9, 10, 1, 2, 3, 4, 5, 6, 7, 8, 9, 10, 1, 2, 3, 4, 5, 6, 7, 8, 9, 10, 1, 2, 3, 4, 5, 6, 7, 8, 9, 10, 1, 2, 3, 4, 5, 6, 7, 8, 9, 10, 1, 2, 3, 4, 5, 6, 7, 8, 9, 10, 5, 8, 1, 2, 3, 4, 5, 6, 7, 8, 9, 10, 1, 2, 3, 4, 5, 6, 7, 8, 9, 10, 1, 2, 5, 7, 8, 9, 10, 10, 1, 2, 3, 4, 5, 6, 7, 8, 9, 10, 1, 2, 3, 4, 5, 6, 7, 8, 9, 10, 1, 2, 3, 4, 5, 6, 7, 8, 9, 10, 4, 7, 1, 2, 3, 4, 5, 6, 7, 8, 9, 10, 1, 2, 3, 4, 5, 6, 7, 8, 9, 10, 1, 2, 3, 4, 5, 6, 7, 8, 9, 10, 1, 2, 3, 4, 5, 6, 7, 8, 9, 10, 1, 2, 3, 4, 5, 6, 7, 8, 9, 10, 1, 2, 3, 4, 5, 6, 7, 8, 9, 10, 1, 2, 3, 4, 5, 6, 7, 8, 9, 10, 1, 2, 3, 4, 5, 6, 7, 8, 9, 10, 1, 2, 3, 4, 5, 6, 7, 8, 9, 10, 1, 2, 3, 4, 5, 6, 7, 8, 9, 10, 1, 2, 3, 4, 5, 6, 7, 8, 9, 10, 1, 2, 3, 4, 5, 6, 7, 8, 9, 10, 1, 2, 3, 4, 5, 6, 7, 8, 9, 10, 1, 2, 3, 4, 5, 6, 7, 8, 9, 10, 1, 2, 3, 4, 5, 6, 7, 9, 1, 2, 3, 4, 5, 6, 7, 8, 9, 10, 1, 2, 3, 4, 5, 6, 7, 8, 9, 10, 1, 2, 3, 4, 5, 6, 7, 8, 9, 10, 1, 2, 3, 4, 5, 6, 7, 8, 9, 10, 1, 2, 4, 5, 6, 7, 8, 10, 1, 2, 3, 4, 5, 6, 7, 8, 9, 10], \"Freq\": [0.033075157552957535, 0.13230063021183014, 0.0992254689335823, 0.0992254689335823, 0.06615031510591507, 0.13230063021183014, 0.16537578403949738, 0.033075157552957535, 0.06615031510591507, 0.16537578403949738, 0.12418586015701294, 0.06209293007850647, 0.12418586015701294, 0.06209293007850647, 0.06209293007850647, 0.12418586015701294, 0.06209293007850647, 0.1862787902355194, 0.06209293007850647, 0.06209293007850647, 0.19113300740718842, 0.09556650370359421, 0.09556650370359421, 0.09556650370359421, 0.09556650370359421, 0.19113300740718842, 0.09556650370359421, 0.07899102568626404, 0.08392796665430069, 0.08886490017175674, 0.08392796665430069, 0.08392796665430069, 0.13823428750038147, 0.07405408471822739, 0.13823428750038147, 0.1036757230758667, 0.12836042046546936, 0.0627683624625206, 0.1173495501279831, 0.08732989430427551, 0.22105379402637482, 0.07914271950721741, 0.09005895256996155, 0.08187177777290344, 0.13918201625347137, 0.07641366124153137, 0.049123067408800125, 0.09686793386936188, 0.09686793386936188, 0.09686793386936188, 0.09686793386936188, 0.09686793386936188, 0.09686793386936188, 0.09686793386936188, 0.09686793386936188, 0.09686793386936188, 0.19373586773872375, 0.06695663183927536, 0.1606959104537964, 0.08704362064599991, 0.11382627487182617, 0.1272176057100296, 0.1272176057100296, 0.11382627487182617, 0.04686964303255081, 0.10043495148420334, 0.05356530472636223, 0.051861077547073364, 0.20744431018829346, 0.10372215509414673, 0.10372215509414673, 0.1555832326412201, 0.10372215509414673, 0.051861077547073364, 0.051861077547073364, 0.10372215509414673, 0.1555832326412201, 0.07458660006523132, 0.1044212356209755, 0.14917320013046265, 0.11933855712413788, 0.11933855712413788, 0.1044212356209755, 0.08950392156839371, 0.11933855712413788, 0.044751960784196854, 0.08950392156839371, 0.11877793818712234, 0.04751117527484894, 0.07126676291227341, 0.11877793818712234, 0.07126676291227341, 0.16628910601139069, 0.16628910601139069, 0.07126676291227341, 0.07126676291227341, 0.09502235054969788, 0.11897778511047363, 0.11897778511047363, 0.11897778511047363, 0.11897778511047363, 0.11897778511047363, 0.11897778511047363, 0.11897778511047363, 0.11897778511047363, 0.07407211512327194, 0.07777572423219681, 0.09814555197954178, 0.10184916108846664, 0.07222031056880951, 0.05555408447980881, 0.16110685467720032, 0.10925637185573578, 0.14999602735042572, 0.09814555197954178, 0.08182212710380554, 0.16364425420761108, 0.08182212710380554, 0.12273319065570831, 0.08182212710380554, 0.08182212710380554, 0.04091106355190277, 0.08182212710380554, 0.08182212710380554, 0.12273319065570831, 0.0976453423500061, 0.08828208595514297, 0.12707270681858063, 0.11904706060886383, 0.10433337837457657, 0.11503423750400543, 0.10299576818943024, 0.08159404993057251, 0.06019233167171478, 0.10433337837457657, 0.16202811896800995, 0.09721687436103821, 0.09316617250442505, 0.137723907828331, 0.10531827807426453, 0.07291265577077866, 0.12557178735733032, 0.06076054647564888, 0.04050702974200249, 0.10126757621765137, 0.4574964940547943, 0.4574964940547943, 0.15642932057380676, 0.11031431704759598, 0.08318784832954407, 0.07233725488185883, 0.1374407857656479, 0.11393117904663086, 0.07504990696907043, 0.12839862704277039, 0.06058245152235031, 0.06148666888475418, 0.08330541104078293, 0.15560822188854218, 0.09430801123380661, 0.10373880714178085, 0.10059521347284317, 0.06915920972824097, 0.10373880714178085, 0.11788500845432281, 0.07859000563621521, 0.09273620694875717, 0.1246068999171257, 0.09073317795991898, 0.09254784137010574, 0.10767003893852234, 0.07440120726823807, 0.09496739506721497, 0.09738694876432419, 0.06653766334056854, 0.12158246338367462, 0.13065578043460846, 0.060150403529405594, 0.0707651823759079, 0.09199473261833191, 0.06722691655158997, 0.20521901547908783, 0.11322428286075592, 0.08491821587085724, 0.053073883056640625, 0.08845647424459457, 0.1627599149942398, 0.08397558331489563, 0.113614022731781, 0.0856221616268158, 0.07903584092855453, 0.08397558331489563, 0.12678666412830353, 0.1333729773759842, 0.13007982075214386, 0.09550163894891739, 0.07244952023029327, 0.07865109294652939, 0.07865109294652939, 0.07865109294652939, 0.18351922929286957, 0.20973625779151917, 0.13108515739440918, 0.07865109294652939, 0.05243406444787979, 0.07865109294652939, 0.05243406444787979, 0.15948505699634552, 0.07309731841087341, 0.08971034735441208, 0.11629118770360947, 0.09635555744171143, 0.09303294867277145, 0.06312950700521469, 0.09303294867277145, 0.09303294867277145, 0.11961379647254944, 0.16531895101070404, 0.07514497637748718, 0.07514497637748718, 0.12774646282196045, 0.1953769326210022, 0.10520296543836594, 0.05260148271918297, 0.08265947550535202, 0.06763047724962234, 0.05260148271918297, 0.02699568122625351, 0.08098704367876053, 0.18896977603435516, 0.10798272490501404, 0.10798272490501404, 0.05399136245250702, 0.13497841358184814, 0.08098704367876053, 0.10798272490501404, 0.08098704367876053, 0.13745947182178497, 0.14881975948810577, 0.14313961565494537, 0.12666720151901245, 0.09656243771314621, 0.057369448244571686, 0.08633817732334137, 0.055097389966249466, 0.07895399630069733, 0.07043378055095673, 0.0993703231215477, 0.07452774047851562, 0.08694903552532196, 0.062106452882289886, 0.19045978784561157, 0.12835334241390228, 0.1366342008113861, 0.08694903552532196, 0.0662468820810318, 0.0662468820810318, 0.10294920206069946, 0.13726560771465302, 0.20589840412139893, 0.10294920206069946, 0.10294920206069946, 0.06863280385732651, 0.10294920206069946, 0.034316401928663254, 0.10294920206069946, 0.06863280385732651, 0.0850226953625679, 0.046762481331825256, 0.11052950471639633, 0.10627836734056473, 0.10415280610322952, 0.05101361870765686, 0.03613464534282684, 0.1657942533493042, 0.1700453907251358, 0.12540847063064575, 0.13640908896923065, 0.10272783786058426, 0.11956845968961716, 0.04294360429048538, 0.0732567310333252, 0.20040348172187805, 0.08672923594713211, 0.08504517376422882, 0.08251907676458359, 0.07073064148426056, 0.1210176944732666, 0.06390821933746338, 0.06390821933746338, 0.11965794861316681, 0.16860893368721008, 0.058469224721193314, 0.06662771850824356, 0.10470070689916611, 0.12509694695472717, 0.1060604527592659, 0.17856453359127045, 0.05101843550801277, 0.10203687101602554, 0.0765276551246643, 0.17856453359127045, 0.10203687101602554, 0.12754608690738678, 0.05101843550801277, 0.0765276551246643, 0.0765276551246643, 0.19402742385864258, 0.11012367904186249, 0.07865976542234421, 0.08914773911237717, 0.09439172595739365, 0.08390375226736069, 0.08390375226736069, 0.07341578602790833, 0.10487969219684601, 0.09439172595739365, 0.07270776480436325, 0.18176940083503723, 0.07270776480436325, 0.18176940083503723, 0.07270776480436325, 0.07270776480436325, 0.09088470041751862, 0.07270776480436325, 0.09088470041751862, 0.10906164348125458, 0.028766239061951637, 0.11506495624780655, 0.11506495624780655, 0.08629871904850006, 0.028766239061951637, 0.028766239061951637, 0.31642863154411316, 0.08629871904850006, 0.14383119344711304, 0.057532478123903275, 0.12163058668375015, 0.08108706027269363, 0.08108706027269363, 0.12163058668375015, 0.12163058668375015, 0.08108706027269363, 0.08108706027269363, 0.04054353013634682, 0.08108706027269363, 0.16217412054538727, 0.10410862416028976, 0.10410862416028976, 0.10410862416028976, 0.20821724832057953, 0.05205431208014488, 0.10410862416028976, 0.05205431208014488, 0.10410862416028976, 0.10410862416028976, 0.10410862416028976, 0.07271648198366165, 0.1454329639673233, 0.096955306828022, 0.07271648198366165, 0.07271648198366165, 0.096955306828022, 0.096955306828022, 0.096955306828022, 0.07271648198366165, 0.1454329639673233, 0.4519362151622772, 0.4519362151622772, 0.037279609590768814, 0.07455921918153763, 0.14911843836307526, 0.11183883249759674, 0.18639805912971497, 0.11183883249759674, 0.07455921918153763, 0.11183883249759674, 0.11183883249759674, 0.07455921918153763, 0.05037418007850647, 0.08815481513738632, 0.10074836015701294, 0.18890316784381866, 0.0755612701177597, 0.03778063505887985, 0.08815481513738632, 0.11334189772605896, 0.06296772509813309, 0.20149672031402588, 0.1383369415998459, 0.1383369415998459, 0.1383369415998459, 0.1383369415998459, 0.1383369415998459, 0.1383369415998459, 0.1383369415998459, 0.24470491707324982, 0.09713155031204224, 0.09713155031204224, 0.08094295859336853, 0.08094295859336853, 0.12950873374938965, 0.11332014203071594, 0.11332014203071594, 0.09713155031204224, 0.06475436687469482, 0.11332014203071594, 0.19792261719703674, 0.08333583921194077, 0.09028049558401108, 0.05902955308556557, 0.07639119029045105, 0.08333583921194077, 0.05208490043878555, 0.19792261719703674, 0.0972251445055008, 0.06250187754631042, 0.04974290728569031, 0.12435726821422577, 0.19897162914276123, 0.09948581457138062, 0.09948581457138062, 0.09948581457138062, 0.12435726821422577, 0.09948581457138062, 0.09948581457138062, 0.024871453642845154, 0.3089253008365631, 0.3089253008365631, 0.11465182900428772, 0.10828228294849396, 0.06581864506006241, 0.14437638223171234, 0.11040546745061874, 0.08280409872531891, 0.08917364478111267, 0.08280409872531891, 0.09129682928323746, 0.11040546745061874, 0.12177654355764389, 0.10530435293912888, 0.12648288905620575, 0.08765558153390884, 0.11765849590301514, 0.10530435293912888, 0.11236386746168137, 0.08530241250991821, 0.061770711094141006, 0.07588972896337509, 0.15967349708080292, 0.05322450026869774, 0.05322450026869774, 0.15967349708080292, 0.10644900053739548, 0.05322450026869774, 0.10644900053739548, 0.05322450026869774, 0.15967349708080292, 0.15967349708080292, 0.07569697499275208, 0.07569697499275208, 0.15139394998550415, 0.15139394998550415, 0.1261616200208664, 0.1261616200208664, 0.07569697499275208, 0.05046464875340462, 0.05046464875340462, 0.05046464875340462, 0.04673229902982712, 0.17802780866622925, 0.06676042824983597, 0.2025066316127777, 0.10904202610254288, 0.09123925119638443, 0.04228160157799721, 0.0801125094294548, 0.12461946159601212, 0.06008438393473625, 0.14303790032863617, 0.06357239931821823, 0.06357239931821823, 0.07946550101041794, 0.13774020969867706, 0.06357239931821823, 0.17482410371303558, 0.07946550101041794, 0.11125170439481735, 0.08476320654153824, 0.1368626207113266, 0.09400665014982224, 0.10368380695581436, 0.09815400093793869, 0.13824507594108582, 0.07465233653783798, 0.04423842206597328, 0.13548016548156738, 0.06912253797054291, 0.10368380695581436, 0.1364046186208725, 0.08951552957296371, 0.08525288850069046, 0.08099023997783661, 0.16624313592910767, 0.12361668795347214, 0.09804081916809082, 0.0724649503827095, 0.09804081916809082, 0.05541437491774559, 0.06361056864261627, 0.1484246701002121, 0.12722113728523254, 0.12722113728523254, 0.042407047003507614, 0.12722113728523254, 0.12722113728523254, 0.06361056864261627, 0.10601761937141418, 0.06361056864261627, 0.05867986008524895, 0.14520779252052307, 0.14222407341003418, 0.1442132145166397, 0.060669008642435074, 0.11537057161331177, 0.07558761537075043, 0.08056049048900604, 0.10940313339233398, 0.06763102859258652, 0.07429172098636627, 0.08225154876708984, 0.07163844257593155, 0.12470395863056183, 0.12735722959041595, 0.0663318932056427, 0.08490481972694397, 0.06898517161607742, 0.19634240865707397, 0.10082447528839111, 0.10445824265480042, 0.10445824265480042, 0.10445824265480042, 0.10445824265480042, 0.10445824265480042, 0.10445824265480042, 0.31337472796440125, 0.10445824265480042, 0.10445824265480042, 0.10445824265480042, 0.09903180599212646, 0.04951590299606323, 0.04951590299606323, 0.04951590299606323, 0.1485477089881897, 0.24757951498031616, 0.09903180599212646, 0.04951590299606323, 0.09903180599212646, 0.04951590299606323, 0.0768023282289505, 0.06144186481833458, 0.19046978652477264, 0.04608139768242836, 0.10445117205381393, 0.153604656457901, 0.09523489326238632, 0.12902791798114777, 0.058369770646095276, 0.08294651657342911, 0.1974038928747177, 0.09870194643735886, 0.09870194643735886, 0.09870194643735886, 0.09870194643735886, 0.09870194643735886, 0.1974038928747177, 0.09870194643735886, 0.07951272279024124, 0.05300847813487053, 0.07951272279024124, 0.15902544558048248, 0.15902544558048248, 0.10601695626974106, 0.07951272279024124, 0.07951272279024124, 0.10601695626974106, 0.10601695626974106, 0.08243428170681, 0.13052093982696533, 0.15112951397895813, 0.1854771226644516, 0.054956186562776566, 0.06869523227214813, 0.07556475698947906, 0.08243428170681, 0.08930379897356033, 0.07556475698947906, 0.10111262649297714, 0.12093862891197205, 0.11036475747823715, 0.10177349299192429, 0.08789528906345367, 0.10375609248876572, 0.14671243727207184, 0.09186048805713654, 0.04824327677488327, 0.08723442256450653, 0.11118505150079727, 0.11118505150079727, 0.055592525750398636, 0.11118505150079727, 0.055592525750398636, 0.11118505150079727, 0.13898131251335144, 0.13898131251335144, 0.0833887904882431, 0.11118505150079727, 0.11326737701892853, 0.11326737701892853, 0.11326737701892853, 0.22653475403785706, 0.11326737701892853, 0.11326737701892853, 0.11326737701892853, 0.11326737701892853, 0.17682906985282898, 0.08457043021917343, 0.08841453492641449, 0.04612932354211807, 0.10763508826494217, 0.12685564160346985, 0.12685564160346985, 0.08457043021917343, 0.06919398903846741, 0.08457043021917343], \"Term\": [\"ammonia\", \"ammonia\", \"ammonia\", \"ammonia\", \"ammonia\", \"ammonia\", \"ammonia\", \"ammonia\", \"ammonia\", \"ammonia\", \"apple\", \"apple\", \"apple\", \"apple\", \"apple\", \"apple\", \"apple\", \"apple\", \"apple\", \"apple\", \"apricot\", \"apricot\", \"apricot\", \"apricot\", \"apricot\", \"apricot\", \"apricot\", \"aroused\", \"aroused\", \"aroused\", \"aroused\", \"aroused\", \"aroused\", \"aroused\", \"aroused\", \"aroused\", \"aroused\", \"berry\", \"berry\", \"berry\", \"berry\", \"berry\", \"berry\", \"berry\", \"berry\", \"berry\", \"berry\", \"blue\", \"blue\", \"blue\", \"blue\", \"blue\", \"blue\", \"blue\", \"blue\", \"blue\", \"blue\", \"blueberry\", \"blueberry\", \"blueberry\", \"blueberry\", \"blueberry\", \"blueberry\", \"blueberry\", \"blueberry\", \"blueberry\", \"blueberry\", \"butter\", \"butter\", \"butter\", \"butter\", \"butter\", \"butter\", \"butter\", \"butter\", \"butter\", \"butter\", \"cheese\", \"cheese\", \"cheese\", \"cheese\", \"cheese\", \"cheese\", \"cheese\", \"cheese\", \"cheese\", \"cheese\", \"chemical\", \"chemical\", \"chemical\", \"chemical\", \"chemical\", \"chemical\", \"chemical\", \"chemical\", \"chemical\", \"chemical\", \"chestnut\", \"chestnut\", \"chestnut\", \"chestnut\", \"chestnut\", \"chestnut\", \"chestnut\", \"chestnut\", \"citrus\", \"citrus\", \"citrus\", \"citrus\", \"citrus\", \"citrus\", \"citrus\", \"citrus\", \"citrus\", \"citrus\", \"coffee\", \"coffee\", \"coffee\", \"coffee\", \"coffee\", \"coffee\", \"coffee\", \"coffee\", \"coffee\", \"coffee\", \"creative\", \"creative\", \"creative\", \"creative\", \"creative\", \"creative\", \"creative\", \"creative\", \"creative\", \"creative\", \"diesel\", \"diesel\", \"diesel\", \"diesel\", \"diesel\", \"diesel\", \"diesel\", \"diesel\", \"diesel\", \"diesel\", \"dry\", \"dry\", \"earthy\", \"earthy\", \"earthy\", \"earthy\", \"earthy\", \"earthy\", \"earthy\", \"earthy\", \"earthy\", \"earthy\", \"energetic\", \"energetic\", \"energetic\", \"energetic\", \"energetic\", \"energetic\", \"energetic\", \"energetic\", \"energetic\", \"energetic\", \"euphoric\", \"euphoric\", \"euphoric\", \"euphoric\", \"euphoric\", \"euphoric\", \"euphoric\", \"euphoric\", \"euphoric\", \"euphoric\", \"flowery\", \"flowery\", \"flowery\", \"flowery\", \"flowery\", \"flowery\", \"flowery\", \"flowery\", \"flowery\", \"flowery\", \"focused\", \"focused\", \"focused\", \"focused\", \"focused\", \"focused\", \"focused\", \"focused\", \"focused\", \"focused\", \"fruit\", \"fruit\", \"fruit\", \"fruit\", \"fruit\", \"fruit\", \"fruit\", \"fruit\", \"fruit\", \"fruit\", \"giggly\", \"giggly\", \"giggly\", \"giggly\", \"giggly\", \"giggly\", \"giggly\", \"giggly\", \"giggly\", \"giggly\", \"grape\", \"grape\", \"grape\", \"grape\", \"grape\", \"grape\", \"grape\", \"grape\", \"grape\", \"grape\", \"grapefruit\", \"grapefruit\", \"grapefruit\", \"grapefruit\", \"grapefruit\", \"grapefruit\", \"grapefruit\", \"grapefruit\", \"grapefruit\", \"grapefruit\", \"happy\", \"happy\", \"happy\", \"happy\", \"happy\", \"happy\", \"happy\", \"happy\", \"happy\", \"happy\", \"herbal\", \"herbal\", \"herbal\", \"herbal\", \"herbal\", \"herbal\", \"herbal\", \"herbal\", \"herbal\", \"herbal\", \"honey\", \"honey\", \"honey\", \"honey\", \"honey\", \"honey\", \"honey\", \"honey\", \"honey\", \"honey\", \"hungry\", \"hungry\", \"hungry\", \"hungry\", \"hungry\", \"hungry\", \"hungry\", \"hungry\", \"hungry\", \"hungry\", \"hybrid\", \"hybrid\", \"hybrid\", \"hybrid\", \"hybrid\", \"hybrid\", \"hybrid\", \"hybrid\", \"hybrid\", \"hybrid\", \"indica\", \"indica\", \"indica\", \"indica\", \"indica\", \"indica\", \"indica\", \"indica\", \"indica\", \"indica\", \"lavender\", \"lavender\", \"lavender\", \"lavender\", \"lavender\", \"lavender\", \"lavender\", \"lavender\", \"lavender\", \"lavender\", \"lemon\", \"lemon\", \"lemon\", \"lemon\", \"lemon\", \"lemon\", \"lemon\", \"lemon\", \"lemon\", \"lemon\", \"lime\", \"lime\", \"lime\", \"lime\", \"lime\", \"lime\", \"lime\", \"lime\", \"lime\", \"lime\", \"mango\", \"mango\", \"mango\", \"mango\", \"mango\", \"mango\", \"mango\", \"mango\", \"mango\", \"mango\", \"menthol\", \"menthol\", \"menthol\", \"menthol\", \"menthol\", \"menthol\", \"menthol\", \"menthol\", \"menthol\", \"menthol\", \"mint\", \"mint\", \"mint\", \"mint\", \"mint\", \"mint\", \"mint\", \"mint\", \"mint\", \"mint\", \"minty\", \"minty\", \"minty\", \"minty\", \"minty\", \"minty\", \"minty\", \"minty\", \"minty\", \"minty\", \"mouth\", \"mouth\", \"nutty\", \"nutty\", \"nutty\", \"nutty\", \"nutty\", \"nutty\", \"nutty\", \"nutty\", \"nutty\", \"nutty\", \"orange\", \"orange\", \"orange\", \"orange\", \"orange\", \"orange\", \"orange\", \"orange\", \"orange\", \"orange\", \"peach\", \"peach\", \"peach\", \"peach\", \"peach\", \"peach\", \"peach\", \"pear\", \"pepper\", \"pepper\", \"pepper\", \"pepper\", \"pepper\", \"pepper\", \"pepper\", \"pepper\", \"pepper\", \"pepper\", \"pine\", \"pine\", \"pine\", \"pine\", \"pine\", \"pine\", \"pine\", \"pine\", \"pine\", \"pine\", \"pineapple\", \"pineapple\", \"pineapple\", \"pineapple\", \"pineapple\", \"pineapple\", \"pineapple\", \"pineapple\", \"pineapple\", \"pineapple\", \"plum\", \"plum\", \"pungent\", \"pungent\", \"pungent\", \"pungent\", \"pungent\", \"pungent\", \"pungent\", \"pungent\", \"pungent\", \"pungent\", \"relaxed\", \"relaxed\", \"relaxed\", \"relaxed\", \"relaxed\", \"relaxed\", \"relaxed\", \"relaxed\", \"relaxed\", \"relaxed\", \"rose\", \"rose\", \"rose\", \"rose\", \"rose\", \"rose\", \"rose\", \"rose\", \"rose\", \"rose\", \"sage\", \"sage\", \"sage\", \"sage\", \"sage\", \"sage\", \"sage\", \"sage\", \"sage\", \"sage\", \"sativa\", \"sativa\", \"sativa\", \"sativa\", \"sativa\", \"sativa\", \"sativa\", \"sativa\", \"sativa\", \"sativa\", \"skunk\", \"skunk\", \"skunk\", \"skunk\", \"skunk\", \"skunk\", \"skunk\", \"skunk\", \"skunk\", \"skunk\", \"sleepy\", \"sleepy\", \"sleepy\", \"sleepy\", \"sleepy\", \"sleepy\", \"sleepy\", \"sleepy\", \"sleepy\", \"sleepy\", \"spicy\", \"spicy\", \"spicy\", \"spicy\", \"spicy\", \"spicy\", \"spicy\", \"spicy\", \"spicy\", \"spicy\", \"strawberry\", \"strawberry\", \"strawberry\", \"strawberry\", \"strawberry\", \"strawberry\", \"strawberry\", \"strawberry\", \"strawberry\", \"strawberry\", \"sweet\", \"sweet\", \"sweet\", \"sweet\", \"sweet\", \"sweet\", \"sweet\", \"sweet\", \"sweet\", \"sweet\", \"talkative\", \"talkative\", \"talkative\", \"talkative\", \"talkative\", \"talkative\", \"talkative\", \"talkative\", \"talkative\", \"talkative\", \"tar\", \"tar\", \"tar\", \"tar\", \"tar\", \"tar\", \"tar\", \"tar\", \"tar\", \"tar\", \"tea\", \"tea\", \"tea\", \"tea\", \"tea\", \"tea\", \"tea\", \"tea\", \"tea\", \"tea\", \"tingly\", \"tingly\", \"tingly\", \"tingly\", \"tingly\", \"tingly\", \"tingly\", \"tingly\", \"tingly\", \"tingly\", \"tobacco\", \"tobacco\", \"tobacco\", \"tobacco\", \"tobacco\", \"tobacco\", \"tobacco\", \"tobacco\", \"tree\", \"tree\", \"tree\", \"tree\", \"tree\", \"tree\", \"tree\", \"tree\", \"tree\", \"tree\", \"tropical\", \"tropical\", \"tropical\", \"tropical\", \"tropical\", \"tropical\", \"tropical\", \"tropical\", \"tropical\", \"tropical\", \"uplifted\", \"uplifted\", \"uplifted\", \"uplifted\", \"uplifted\", \"uplifted\", \"uplifted\", \"uplifted\", \"uplifted\", \"uplifted\", \"vanilla\", \"vanilla\", \"vanilla\", \"vanilla\", \"vanilla\", \"vanilla\", \"vanilla\", \"vanilla\", \"vanilla\", \"vanilla\", \"violet\", \"violet\", \"violet\", \"violet\", \"violet\", \"violet\", \"violet\", \"violet\", \"woody\", \"woody\", \"woody\", \"woody\", \"woody\", \"woody\", \"woody\", \"woody\", \"woody\", \"woody\"]}, \"R\": 30, \"lambda.step\": 0.01, \"plot.opts\": {\"xlab\": \"PC1\", \"ylab\": \"PC2\"}, \"topic.order\": [4, 10, 3, 8, 1, 5, 7, 2, 9, 6]};\n",
       "\n",
       "function LDAvis_load_lib(url, callback){\n",
       "  var s = document.createElement('script');\n",
       "  s.src = url;\n",
       "  s.async = true;\n",
       "  s.onreadystatechange = s.onload = callback;\n",
       "  s.onerror = function(){console.warn(\"failed to load library \" + url);};\n",
       "  document.getElementsByTagName(\"head\")[0].appendChild(s);\n",
       "}\n",
       "\n",
       "if(typeof(LDAvis) !== \"undefined\"){\n",
       "   // already loaded: just create the visualization\n",
       "   !function(LDAvis){\n",
       "       new LDAvis(\"#\" + \"ldavis_el36992699768951844844871611\", ldavis_el36992699768951844844871611_data);\n",
       "   }(LDAvis);\n",
       "}else if(typeof define === \"function\" && define.amd){\n",
       "   // require.js is available: use it to load d3/LDAvis\n",
       "   require.config({paths: {d3: \"https://cdnjs.cloudflare.com/ajax/libs/d3/3.5.5/d3.min\"}});\n",
       "   require([\"d3\"], function(d3){\n",
       "      window.d3 = d3;\n",
       "      LDAvis_load_lib(\"https://cdn.rawgit.com/bmabey/pyLDAvis/files/ldavis.v1.0.0.js\", function(){\n",
       "        new LDAvis(\"#\" + \"ldavis_el36992699768951844844871611\", ldavis_el36992699768951844844871611_data);\n",
       "      });\n",
       "    });\n",
       "}else{\n",
       "    // require.js not available: dynamically load d3 & LDAvis\n",
       "    LDAvis_load_lib(\"https://cdnjs.cloudflare.com/ajax/libs/d3/3.5.5/d3.min.js\", function(){\n",
       "         LDAvis_load_lib(\"https://cdn.rawgit.com/bmabey/pyLDAvis/files/ldavis.v1.0.0.js\", function(){\n",
       "                 new LDAvis(\"#\" + \"ldavis_el36992699768951844844871611\", ldavis_el36992699768951844844871611_data);\n",
       "            })\n",
       "         });\n",
       "}\n",
       "</script>"
      ],
      "text/plain": [
       "PreparedData(topic_coordinates=              x         y  topics  cluster       Freq\n",
       "topic                                                \n",
       "3      0.010641 -0.007603       1        1  11.214599\n",
       "9     -0.000465  0.014281       2        1  10.644262\n",
       "2      0.004058  0.008271       3        1  10.574094\n",
       "7     -0.021494  0.009321       4        1  10.531642\n",
       "0      0.000366 -0.010425       5        1  10.415583\n",
       "4      0.020391  0.000550       6        1   9.949836\n",
       "6      0.008764  0.010527       7        1   9.580900\n",
       "1      0.001334 -0.011043       8        1   9.308624\n",
       "8     -0.017384 -0.007444       9        1   8.903747\n",
       "5     -0.006211 -0.006435      10        1   8.876713, topic_info=   Category         Freq       Term        Total  loglift  logprob\n",
       "5   Default  1187.000000     hybrid  1187.000000  30.0000  30.0000\n",
       "22  Default   470.000000     hungry   470.000000  29.0000  29.0000\n",
       "4   Default  1653.000000   euphoric  1653.000000  28.0000  28.0000\n",
       "7   Default  1005.000000      sweet  1005.000000  27.0000  27.0000\n",
       "16  Default   449.000000     sativa   449.000000  26.0000  26.0000\n",
       "12  Default  1760.000000      happy  1760.000000  25.0000  25.0000\n",
       "25  Default   735.000000     indica   735.000000  24.0000  24.0000\n",
       "0   Default   540.000000     citrus   540.000000  23.0000  23.0000\n",
       "18  Default  1513.000000   uplifted  1513.000000  22.0000  22.0000\n",
       "24  Default   376.000000  talkative   376.000000  21.0000  21.0000\n",
       "2   Default  1105.000000     earthy  1105.000000  20.0000  20.0000\n",
       "11  Default   282.000000    flowery   282.000000  19.0000  19.0000\n",
       "33  Default   366.000000      berry   366.000000  18.0000  18.0000\n",
       "30  Default   287.000000       pine   287.000000  17.0000  17.0000\n",
       "32  Default   723.000000     sleepy   723.000000  16.0000  16.0000\n",
       "8   Default   325.000000     tingly   325.000000  15.0000  15.0000\n",
       "28  Default   607.000000    focused   607.000000  14.0000  14.0000\n",
       "3   Default   636.000000  energetic   636.000000  13.0000  13.0000\n",
       "14  Default   241.000000     herbal   241.000000  12.0000  12.0000\n",
       "31  Default   188.000000      skunk   188.000000  11.0000  11.0000\n",
       "6   Default  1699.000000    relaxed  1699.000000  10.0000  10.0000\n",
       "9   Default   202.000000    aroused   202.000000   9.0000   9.0000\n",
       "19  Default   260.000000      woody   260.000000   8.0000   8.0000\n",
       "1   Default   747.000000   creative   747.000000   7.0000   7.0000\n",
       "23  Default    79.000000     orange    79.000000   6.0000   6.0000\n",
       "26  Default   470.000000    pungent   470.000000   5.0000   5.0000\n",
       "40  Default    34.000000      mango    34.000000   4.0000   4.0000\n",
       "10  Default   246.000000     diesel   246.000000   3.0000   3.0000\n",
       "27  Default   300.000000     giggly   300.000000   2.0000   2.0000\n",
       "47  Default   145.000000   tropical   145.000000   1.0000   1.0000\n",
       "..      ...          ...        ...          ...      ...      ...\n",
       "42  Topic10     3.941787    vanilla    35.976059   0.2105  -6.1221\n",
       "50  Topic10     2.051371       mint    19.210705   0.1848  -6.7753\n",
       "25  Topic10    77.680984     indica   735.429626   0.1739  -3.1412\n",
       "32  Topic10    75.380043     sleepy   723.353088   0.1604  -3.1712\n",
       "1   Topic10    77.666542   creative   747.603516   0.1573  -3.1414\n",
       "10  Topic10    25.423201     diesel   246.870728   0.1485  -4.2581\n",
       "43  Topic10     0.864794   chestnut     8.404930   0.1477  -7.6390\n",
       "64  Topic10     0.331080       plum     3.237029   0.1417  -8.5992\n",
       "54  Topic10     5.592390       lime    55.014759   0.1355  -5.7724\n",
       "24  Topic10    38.183006  talkative   376.892609   0.1322  -3.8514\n",
       "0   Topic10    53.435040     citrus   540.014282   0.1086  -3.5153\n",
       "37  Topic10     4.113647   chemical    42.095360   0.0961  -6.0795\n",
       "3   Topic10    59.238857  energetic   636.213196   0.0478  -3.4122\n",
       "18  Topic10   132.331375   uplifted  1513.164185  -0.0149  -2.6085\n",
       "39  Topic10    17.503021      lemon   190.694687   0.0334  -4.6314\n",
       "6   Topic10   129.446121    relaxed  1699.834717  -0.1533  -2.6305\n",
       "12  Topic10   124.136711      happy  1760.518921  -0.2302  -2.6724\n",
       "5   Topic10    83.740097     hybrid  1187.604126  -0.2302  -3.0661\n",
       "8   Topic10    27.031731     tingly   325.510956  -0.0666  -4.1968\n",
       "7   Topic10    68.285606      sweet  1005.455688  -0.2678  -3.2701\n",
       "28  Topic10    44.390385    focused   607.319397  -0.1943  -3.7008\n",
       "19  Topic10    21.762276      woody   260.138214  -0.0593  -4.4136\n",
       "2   Topic10    68.412895     earthy  1105.930786  -0.3611  -3.2682\n",
       "31  Topic10    16.352156      skunk   188.761154  -0.0244  -4.6994\n",
       "16  Topic10    27.386044     sativa   449.368011  -0.3761  -4.1837\n",
       "30  Topic10    18.236954       pine   287.991333  -0.3377  -4.5903\n",
       "14  Topic10    16.131166     herbal   241.520798  -0.2845  -4.7130\n",
       "47  Topic10    11.446950   tropical   145.570511  -0.1212  -5.0561\n",
       "33  Topic10    18.029654      berry   366.426636  -0.5900  -4.6018\n",
       "17  Topic10    12.767071      spicy   234.596161  -0.4893  -4.9469\n",
       "\n",
       "[494 rows x 6 columns], token_table=      Topic      Freq      Term\n",
       "term                           \n",
       "56        1  0.033075   ammonia\n",
       "56        2  0.132301   ammonia\n",
       "56        3  0.099225   ammonia\n",
       "56        4  0.099225   ammonia\n",
       "56        5  0.066150   ammonia\n",
       "56        6  0.132301   ammonia\n",
       "56        7  0.165376   ammonia\n",
       "56        8  0.033075   ammonia\n",
       "56        9  0.066150   ammonia\n",
       "56       10  0.165376   ammonia\n",
       "51        1  0.124186     apple\n",
       "51        2  0.062093     apple\n",
       "51        3  0.124186     apple\n",
       "51        4  0.062093     apple\n",
       "51        5  0.062093     apple\n",
       "51        6  0.124186     apple\n",
       "51        7  0.062093     apple\n",
       "51        8  0.186279     apple\n",
       "51        9  0.062093     apple\n",
       "51       10  0.062093     apple\n",
       "20        1  0.191133   apricot\n",
       "20        2  0.095567   apricot\n",
       "20        3  0.095567   apricot\n",
       "20        5  0.095567   apricot\n",
       "20        6  0.095567   apricot\n",
       "20        7  0.191133   apricot\n",
       "20       10  0.095567   apricot\n",
       "9         1  0.078991   aroused\n",
       "9         2  0.083928   aroused\n",
       "9         3  0.088865   aroused\n",
       "...     ...       ...       ...\n",
       "18        9  0.048243  uplifted\n",
       "18       10  0.087234  uplifted\n",
       "42        1  0.111185   vanilla\n",
       "42        2  0.111185   vanilla\n",
       "42        3  0.055593   vanilla\n",
       "42        4  0.111185   vanilla\n",
       "42        5  0.055593   vanilla\n",
       "42        6  0.111185   vanilla\n",
       "42        7  0.138981   vanilla\n",
       "42        8  0.138981   vanilla\n",
       "42        9  0.083389   vanilla\n",
       "42       10  0.111185   vanilla\n",
       "13        1  0.113267    violet\n",
       "13        2  0.113267    violet\n",
       "13        4  0.113267    violet\n",
       "13        5  0.226535    violet\n",
       "13        6  0.113267    violet\n",
       "13        7  0.113267    violet\n",
       "13        8  0.113267    violet\n",
       "13       10  0.113267    violet\n",
       "19        1  0.176829     woody\n",
       "19        2  0.084570     woody\n",
       "19        3  0.088415     woody\n",
       "19        4  0.046129     woody\n",
       "19        5  0.107635     woody\n",
       "19        6  0.126856     woody\n",
       "19        7  0.126856     woody\n",
       "19        8  0.084570     woody\n",
       "19        9  0.069194     woody\n",
       "19       10  0.084570     woody\n",
       "\n",
       "[635 rows x 3 columns], R=30, lambda_step=0.01, plot_opts={'xlab': 'PC1', 'ylab': 'PC2'}, topic_order=[4, 10, 3, 8, 1, 5, 7, 2, 9, 6])"
      ]
     },
     "execution_count": 132,
     "metadata": {},
     "output_type": "execute_result"
    }
   ],
   "source": [
    "pyLDAvis.gensim.prepare(lda, corpus, id2word)"
   ]
  },
  {
   "cell_type": "code",
   "execution_count": null,
   "metadata": {},
   "outputs": [],
   "source": []
  }
 ],
 "metadata": {
  "kernelspec": {
   "display_name": "U4S1DS10 (Python 3.7)",
   "language": "python",
   "name": "u4-s1-nlp-ds10"
  },
  "language_info": {
   "codemirror_mode": {
    "name": "ipython",
    "version": 3
   },
   "file_extension": ".py",
   "mimetype": "text/x-python",
   "name": "python",
   "nbconvert_exporter": "python",
   "pygments_lexer": "ipython3",
   "version": "3.7.0"
  }
 },
 "nbformat": 4,
 "nbformat_minor": 4
}
